{
 "cells": [
  {
   "cell_type": "code",
   "execution_count": 3,
   "id": "0e085163",
   "metadata": {},
   "outputs": [
    {
     "name": "stdout",
     "output_type": "stream",
     "text": [
      "    id                 time     gl\n",
      "0  183  2015-05-16 05:35:41  162.0\n",
      "1  183  2015-05-16 05:30:41  164.0\n",
      "2  183  2015-05-16 05:25:41  168.0\n",
      "3  183  2015-05-16 05:20:41  169.0\n",
      "4  183  2015-05-16 05:15:41  170.0\n"
     ]
    }
   ],
   "source": [
    "import pandas as pd\n",
    "import numpy as np\n",
    "df = pd.read_csv(r\"./Aleppo2017_processed.csv\",encoding='utf-8')\n",
    "print(df.head())"
   ]
  },
  {
   "cell_type": "code",
   "execution_count": 4,
   "id": "240e6c97",
   "metadata": {},
   "outputs": [
    {
     "name": "stdout",
     "output_type": "stream",
     "text": [
      "Index([263,  77, 193, 277, 229, 245, 155, 251, 111, 164,\n",
      "       ...\n",
      "       128, 264, 186, 162, 249,  39,  52, 266, 223, 289],\n",
      "      dtype='int64', name='id', length=226)\n"
     ]
    }
   ],
   "source": [
    "ID = df['id'].value_counts().index\n",
    "print(ID)"
   ]
  },
  {
   "cell_type": "code",
   "execution_count": 5,
   "id": "31df08b1",
   "metadata": {},
   "outputs": [],
   "source": [
    "all_data = []\n",
    "for i in ID[:20]:\n",
    "    data = df[df['id']==i]\n",
    "    data = data.sort_values(by='time')   \n",
    "    data['target'] = data['gl'].shift(-1)\n",
    "    \n",
    "    # 使用了shift函数，在最后必然是有缺失值的，这里去掉缺失值所在行\n",
    "    data.dropna()                     \n",
    "    data = data[['gl','target']].astype(np.float32)  # 修改数据类型\n",
    "    data = data.iloc[:5000].gl.values\n",
    "    all_data.append(data)\n",
    "    break"
   ]
  },
  {
   "cell_type": "code",
   "execution_count": 6,
   "id": "048404bc",
   "metadata": {},
   "outputs": [
    {
     "name": "stdout",
     "output_type": "stream",
     "text": [
      "(1, 5000)\n"
     ]
    }
   ],
   "source": [
    "import numpy as np\n",
    "all_data = np.array(all_data)\n",
    "print(all_data.shape)\n",
    "# 将2000条数据的最后24条用作测试集\n",
    "test_data_size = 24\n",
    "train_data = all_data[:,:-test_data_size]\n",
    "test_data = all_data[:,-test_data_size:]"
   ]
  },
  {
   "cell_type": "code",
   "execution_count": 7,
   "id": "7b37e217",
   "metadata": {},
   "outputs": [
    {
     "data": {
      "text/plain": [
       "(1, 4976)"
      ]
     },
     "execution_count": 7,
     "metadata": {},
     "output_type": "execute_result"
    }
   ],
   "source": [
    "train_data.shape"
   ]
  },
  {
   "cell_type": "code",
   "execution_count": 8,
   "id": "6ae2bad1",
   "metadata": {},
   "outputs": [
    {
     "data": {
      "text/plain": [
       "(1, 24)"
      ]
     },
     "execution_count": 8,
     "metadata": {},
     "output_type": "execute_result"
    }
   ],
   "source": [
    "test_data.shape"
   ]
  },
  {
   "cell_type": "markdown",
   "id": "32a5ef47",
   "metadata": {},
   "source": [
    "### 数据归一化仅应用于训练数据，而不应用于测试数据。如果对测试数据进行归一化，则有可能会将某些信息从训练集泄漏到测试集中。"
   ]
  },
  {
   "cell_type": "code",
   "execution_count": 9,
   "id": "27cebf46",
   "metadata": {},
   "outputs": [
    {
     "name": "stdout",
     "output_type": "stream",
     "text": [
      "[[-0.7573771 ]\n",
      " [-0.77049184]\n",
      " [-0.79016393]\n",
      " [-0.79672134]\n",
      " [-0.8032787 ]]\n",
      "[[-0.14754105]\n",
      " [-0.15409839]\n",
      " [-0.14754105]\n",
      " [-0.13442624]\n",
      " [-0.12786889]]\n"
     ]
    }
   ],
   "source": [
    "from sklearn.preprocessing import MinMaxScaler\n",
    "scaler = MinMaxScaler(feature_range=(-1, 1))\n",
    "train_data_normalized = scaler.fit_transform(train_data.reshape(-1, 1))\n",
    "print(train_data_normalized[:5])\n",
    "print(train_data_normalized[-5:])"
   ]
  },
  {
   "cell_type": "code",
   "execution_count": 12,
   "id": "3c9a86a8",
   "metadata": {},
   "outputs": [],
   "source": [
    "import torch\n",
    "import torch.nn as nn\n",
    "train_data_normalized = torch.FloatTensor(train_data_normalized).view(-1)"
   ]
  },
  {
   "cell_type": "code",
   "execution_count": 13,
   "id": "0283254b",
   "metadata": {},
   "outputs": [
    {
     "data": {
      "text/plain": [
       "torch.Size([4976])"
      ]
     },
     "execution_count": 13,
     "metadata": {},
     "output_type": "execute_result"
    }
   ],
   "source": [
    "train_data_normalized.shape"
   ]
  },
  {
   "cell_type": "code",
   "execution_count": 16,
   "id": "47c21abb",
   "metadata": {},
   "outputs": [],
   "source": [
    "train_window = 24\n",
    "def create_inout_sequences(input_data, tw):\n",
    "    L = len(input_data)\n",
    "    inout_seq = []\n",
    "    for i in range(L-tw):\n",
    "        train_seq = input_data[i:i+tw]\n",
    "        train_label = input_data[i+tw:i+tw+1]\n",
    "        inout_seq.append((train_seq ,train_label))\n",
    "    return inout_seq"
   ]
  },
  {
   "cell_type": "code",
   "execution_count": 17,
   "id": "f0b844d5",
   "metadata": {},
   "outputs": [],
   "source": [
    "train_inout_seq = create_inout_sequences(train_data_normalized, train_window)"
   ]
  },
  {
   "cell_type": "code",
   "execution_count": 18,
   "id": "4fea23d2",
   "metadata": {},
   "outputs": [
    {
     "data": {
      "text/plain": [
       "[(tensor([-0.7574, -0.7705, -0.7902, -0.7967, -0.8033, -0.8098, -0.8098, -0.8098,\n",
       "          -0.8098, -0.8033, -0.7967, -0.8033, -0.8098, -0.8164, -0.8098, -0.8098,\n",
       "          -0.8098, -0.8098, -0.8098, -0.8164, -0.8230, -0.8295, -0.8230, -0.8230]),\n",
       "  tensor([-0.8230])),\n",
       " (tensor([-0.7705, -0.7902, -0.7967, -0.8033, -0.8098, -0.8098, -0.8098, -0.8098,\n",
       "          -0.8033, -0.7967, -0.8033, -0.8098, -0.8164, -0.8098, -0.8098, -0.8098,\n",
       "          -0.8098, -0.8098, -0.8164, -0.8230, -0.8295, -0.8230, -0.8230, -0.8230]),\n",
       "  tensor([-0.8164])),\n",
       " (tensor([-0.7902, -0.7967, -0.8033, -0.8098, -0.8098, -0.8098, -0.8098, -0.8033,\n",
       "          -0.7967, -0.8033, -0.8098, -0.8164, -0.8098, -0.8098, -0.8098, -0.8098,\n",
       "          -0.8098, -0.8164, -0.8230, -0.8295, -0.8230, -0.8230, -0.8230, -0.8164]),\n",
       "  tensor([-0.8164]))]"
      ]
     },
     "execution_count": 18,
     "metadata": {},
     "output_type": "execute_result"
    }
   ],
   "source": [
    "train_inout_seq[:3]"
   ]
  },
  {
   "cell_type": "code",
   "execution_count": 19,
   "id": "a697bf15",
   "metadata": {},
   "outputs": [],
   "source": [
    "class LSTM(nn.Module):\n",
    "    def __init__(self, input_size=1, hidden_layer_size=64, output_size=1):\n",
    "        super().__init__()\n",
    "        self.hidden_layer_size = hidden_layer_size\n",
    "\n",
    "        self.lstm = nn.LSTM(input_size, hidden_layer_size)\n",
    "\n",
    "    def forward(self, input_seq):\n",
    "\n",
    "        lstm_out, self.hidden_cell = self.lstm(input_seq.view(len(input_seq) ,1, -1), self.hidden_cell)\n",
    "        predictions = self.linear(lstm_out.view(len(input_seq), -1))\n",
    "        return predictions[-1]"
   ]
  },
  {
   "cell_type": "code",
   "execution_count": 20,
   "id": "54b3c72a",
   "metadata": {},
   "outputs": [],
   "source": [
    "model = LSTM()\n",
    "loss_function = nn.MSELoss()\n",
    "optimizer = torch.optim.Adam(model.parameters(), lr=0.001)\n",
    "model.add_module('linear',nn.Linear(64,1))"
   ]
  },
  {
   "cell_type": "code",
   "execution_count": 21,
   "id": "4dcbd062",
   "metadata": {},
   "outputs": [
    {
     "name": "stdout",
     "output_type": "stream",
     "text": [
      "LSTM(\n",
      "  (lstm): LSTM(1, 64)\n",
      "  (linear): Linear(in_features=64, out_features=1, bias=True)\n",
      ")\n"
     ]
    }
   ],
   "source": [
    "print(model)"
   ]
  },
  {
   "cell_type": "code",
   "execution_count": 22,
   "id": "97dde769",
   "metadata": {},
   "outputs": [
    {
     "name": "stdout",
     "output_type": "stream",
     "text": [
      "epoch:   1 loss: 0.00000108\n",
      "epoch:  26 loss: 0.00008426\n",
      "epoch:  51 loss: 0.00009119\n",
      "epoch:  76 loss: 0.00000777\n",
      "epoch: 101 loss: 0.00020157\n",
      "epoch: 126 loss: 0.00000868\n",
      "epoch: 149 loss: 0.0000130228\n"
     ]
    }
   ],
   "source": [
    "epochs = 150\n",
    "\n",
    "for i in range(epochs):\n",
    "    for seq, labels in train_inout_seq:\n",
    "        optimizer.zero_grad()\n",
    "        model.hidden_cell = (torch.zeros(1, 1, model.hidden_layer_size),\n",
    "                        torch.zeros(1, 1, model.hidden_layer_size))\n",
    "\n",
    "        y_pred = model(seq)\n",
    "\n",
    "        single_loss = loss_function(y_pred, labels)\n",
    "        single_loss.backward()\n",
    "        optimizer.step()\n",
    "\n",
    "    if i%25 == 1:\n",
    "        print(f'epoch: {i:3} loss: {single_loss.item():10.8f}')\n",
    "\n",
    "print(f'epoch: {i:3} loss: {single_loss.item():10.10f}')"
   ]
  },
  {
   "cell_type": "code",
   "execution_count": 135,
   "id": "1d12567c",
   "metadata": {},
   "outputs": [
    {
     "name": "stdout",
     "output_type": "stream",
     "text": [
      "20\n"
     ]
    }
   ],
   "source": [
    "fut_pred = 24\n",
    "test_inputs = train_data_normalized[-train_window:].tolist()\n",
    "print(len(test_inputs))"
   ]
  },
  {
   "cell_type": "code",
   "execution_count": 134,
   "id": "b7e88f4a",
   "metadata": {},
   "outputs": [
    {
     "ename": "TypeError",
     "evalue": "list indices must be integers or slices, not tuple",
     "output_type": "error",
     "traceback": [
      "\u001b[1;31m---------------------------------------------------------------------------\u001b[0m",
      "\u001b[1;31mTypeError\u001b[0m                                 Traceback (most recent call last)",
      "Cell \u001b[1;32mIn[134], line 3\u001b[0m\n\u001b[0;32m      1\u001b[0m model\u001b[38;5;241m.\u001b[39meval()\n\u001b[0;32m      2\u001b[0m \u001b[38;5;28;01mfor\u001b[39;00m i \u001b[38;5;129;01min\u001b[39;00m \u001b[38;5;28mrange\u001b[39m(fut_pred):\n\u001b[1;32m----> 3\u001b[0m     inputs\u001b[38;5;241m=\u001b[39m \u001b[43mtest_inputs\u001b[49m\u001b[43m[\u001b[49m\u001b[43m:\u001b[49m\u001b[43m,\u001b[49m\u001b[43m \u001b[49m\u001b[38;5;241;43m-\u001b[39;49m\u001b[43mfut_pred\u001b[49m\u001b[43m:\u001b[49m\u001b[43m]\u001b[49m    \u001b[38;5;66;03m#(20 * 24)\u001b[39;00m\n\u001b[0;32m      4\u001b[0m     \u001b[38;5;28mprint\u001b[39m(inputs\u001b[38;5;241m.\u001b[39mshape)\n\u001b[0;32m      5\u001b[0m     \u001b[38;5;28;01mwith\u001b[39;00m torch\u001b[38;5;241m.\u001b[39mno_grad():\n",
      "\u001b[1;31mTypeError\u001b[0m: list indices must be integers or slices, not tuple"
     ]
    }
   ],
   "source": [
    "model.eval()\n",
    "\n",
    "for i in range(fut_pred):\n",
    "    seq = torch.FloatTensor(test_inputs[-train_window:])\n",
    "    with torch.no_grad():\n",
    "        model.hidden = (torch.zeros(1, 1, model.hidden_layer_size),\n",
    "                        torch.zeros(1, 1, model.hidden_layer_size))\n",
    "        test_inputs.append(model(seq).item())"
   ]
  },
  {
   "cell_type": "code",
   "execution_count": 49,
   "id": "9fe7a7f0",
   "metadata": {},
   "outputs": [
    {
     "data": {
      "text/plain": [
       "[0.04151177406311035,\n",
       " -0.0161171555519104,\n",
       " -0.010789990425109863,\n",
       " 0.022889263927936554,\n",
       " 0.022737331688404083,\n",
       " -0.07471539080142975,\n",
       " -0.22732916474342346,\n",
       " -0.32408708333969116,\n",
       " -0.39435720443725586,\n",
       " -0.45700332522392273,\n",
       " -0.5201117992401123,\n",
       " -0.5593910217285156,\n",
       " -0.5689738988876343,\n",
       " -0.5285818576812744,\n",
       " -0.5237463712692261,\n",
       " -0.529400110244751,\n",
       " -0.5158089399337769,\n",
       " -0.49369436502456665,\n",
       " -0.46361038088798523,\n",
       " -0.43943145871162415,\n",
       " -0.4056631028652191,\n",
       " -0.3723333775997162,\n",
       " -0.34858426451683044,\n",
       " -0.32226309180259705,\n",
       " -0.2795800566673279,\n",
       " -0.25713270902633667,\n",
       " -0.2522478699684143,\n",
       " -0.2883049249649048,\n",
       " -0.3269151747226715,\n",
       " -0.3546961545944214,\n",
       " -0.3834458589553833,\n",
       " -0.41147956252098083,\n",
       " -0.44603875279426575,\n",
       " -0.4782434105873108,\n",
       " -0.508969783782959,\n",
       " -0.5376996994018555,\n",
       " -0.5639424324035645,\n",
       " -0.5890454053878784,\n",
       " -0.6146222352981567,\n",
       " -0.6409561634063721,\n",
       " -0.6661758422851562,\n",
       " -0.6869421005249023,\n",
       " -0.6982179880142212,\n",
       " -0.6961150169372559,\n",
       " -0.6832199096679688,\n",
       " -0.664608359336853,\n",
       " -0.6473314762115479,\n",
       " -0.6337318420410156]"
      ]
     },
     "execution_count": 49,
     "metadata": {},
     "output_type": "execute_result"
    }
   ],
   "source": [
    "test_inputs[fut_pred:]"
   ]
  },
  {
   "cell_type": "code",
   "execution_count": 71,
   "id": "d52c3324",
   "metadata": {},
   "outputs": [
    {
     "name": "stdout",
     "output_type": "stream",
     "text": [
      "[[148.67385485]\n",
      " [146.34648471]\n",
      " [142.23606071]\n",
      " [137.0501813 ]\n",
      " [130.71387884]\n",
      " [125.14894929]\n",
      " [124.14484362]\n",
      " [140.33720278]\n",
      " [140.83856069]\n",
      " [144.1989053 ]\n",
      " [148.40614214]\n",
      " [156.68075973]\n",
      " [161.28069069]\n",
      " [163.99206566]\n",
      " [166.71374257]\n",
      " [189.72554272]\n",
      " [202.62373216]\n",
      " [203.03658987]\n",
      " [198.39672163]\n",
      " [191.07747439]\n",
      " [187.39417805]\n",
      " [177.89066332]\n",
      " [170.07236843]\n",
      " [169.48540144]]\n"
     ]
    }
   ],
   "source": [
    "actual_predictions = scaler.inverse_transform(np.array(test_inputs[train_window:] ).reshape(-1, 1))\n",
    "print(actual_predictions)"
   ]
  },
  {
   "cell_type": "code",
   "execution_count": 76,
   "id": "0a8e602b",
   "metadata": {},
   "outputs": [
    {
     "data": {
      "image/png": "[encoded data removed]",
      "text/plain": [
       "<Figure size 1600x640 with 1 Axes>"
      ]
     },
     "metadata": {},
     "output_type": "display_data"
    }
   ],
   "source": [
    "x = np.arange(4976,5000,1)\n",
    "# print(x)\n",
    "from matplotlib import pyplot as plt\n",
    "plt.figure(figsize=(20,8),dpi=80)\n",
    "\n",
    "plt.title('Times vs blood')\n",
    "plt.ylabel('Blood Glucose')\n",
    "plt.grid(True)\n",
    "plt.autoscale(axis='x', tight=True)\n",
    "all_data = np.array(all_data).reshape(5000)\n",
    "plt.plot(x,all_data[-24:], label='targets',color='orange')\n",
    "plt.plot(x,actual_predictions, label='predict',color='cyan')\n",
    "plt.legend()\n",
    "plt.show()"
   ]
  },
  {
   "cell_type": "code",
   "execution_count": 78,
   "id": "03e4cbce",
   "metadata": {},
   "outputs": [
    {
     "name": "stdout",
     "output_type": "stream",
     "text": [
      "Pearson correlation: 0.7066781769701418\n"
     ]
    }
   ],
   "source": [
    "import numpy as np\n",
    "import pandas as pd\n",
    "\n",
    "# 示例数据\n",
    "x = np.array(all_data[-24:])\n",
    "y = np.array(actual_predictions)\n",
    "\n",
    "# 使用NumPy计算Pearson相关系数\n",
    "pearson_corr = np.corrcoef(x.flatten(), y.flatten())[0, 1]\n",
    "print(\"Pearson correlation:\", pearson_corr)\n"
   ]
  },
  {
   "cell_type": "code",
   "execution_count": 69,
   "id": "e600cb22",
   "metadata": {},
   "outputs": [
    {
     "data": {
      "text/plain": [
       "a    10\n",
       "b    20\n",
       "c    30\n",
       "d    40\n",
       "e    50\n",
       "dtype: int64"
      ]
     },
     "execution_count": 69,
     "metadata": {},
     "output_type": "execute_result"
    }
   ],
   "source": [
    "import pandas as pd\n",
    "\n",
    "# 创建一个示例的 Series\n",
    "data = pd.Series([10, 20, 30, 40, 50], index=['a', 'b', 'c', 'd', 'e'])\n",
    "data"
   ]
  },
  {
   "cell_type": "code",
   "execution_count": 73,
   "id": "2f5cce48",
   "metadata": {},
   "outputs": [
    {
     "data": {
      "text/plain": [
       "c    30\n",
       "d    40\n",
       "e    50\n",
       "dtype: int64"
      ]
     },
     "execution_count": 73,
     "metadata": {},
     "output_type": "execute_result"
    }
   ],
   "source": [
    "data[2:5]"
   ]
  },
  {
   "cell_type": "code",
   "execution_count": 131,
   "id": "a3253d58",
   "metadata": {},
   "outputs": [
    {
     "data": {
      "text/plain": [
       "tensor([[1, 2, 3],\n",
       "        [4, 5, 6]])"
      ]
     },
     "execution_count": 131,
     "metadata": {},
     "output_type": "execute_result"
    }
   ],
   "source": [
    "x = torch.tensor([[1,2,3],[4,5,6]])\n",
    "x"
   ]
  },
  {
   "cell_type": "code",
   "execution_count": null,
   "id": "4cc758ae",
   "metadata": {},
   "outputs": [],
   "source": []
  }
 ],
 "metadata": {
  "kernelspec": {
   "display_name": "Python 3 (ipykernel)",
   "language": "python",
   "name": "python3"
  },
  "language_info": {
   "codemirror_mode": {
    "name": "ipython",
    "version": 3
   },
   "file_extension": ".py",
   "mimetype": "text/x-python",
   "name": "python",
   "nbconvert_exporter": "python",
   "pygments_lexer": "ipython3",
   "version": "3.8.17"
  }
 },
 "nbformat": 4,
 "nbformat_minor": 5
}
