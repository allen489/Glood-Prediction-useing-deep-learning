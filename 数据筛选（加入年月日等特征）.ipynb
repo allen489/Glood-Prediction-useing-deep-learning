{
 "cells": [
  {
   "cell_type": "code",
   "execution_count": 1,
   "id": "913393a4",
   "metadata": {},
   "outputs": [
    {
     "name": "stdout",
     "output_type": "stream",
     "text": [
      "    id                 time     gl\n",
      "0  183  2015-05-16 05:35:41  162.0\n",
      "1  183  2015-05-16 05:30:41  164.0\n",
      "2  183  2015-05-16 05:25:41  168.0\n",
      "3  183  2015-05-16 05:20:41  169.0\n",
      "4  183  2015-05-16 05:15:41  170.0\n"
     ]
    }
   ],
   "source": [
    "import pandas as pd\n",
    "import numpy as np\n",
    "df = pd.read_csv(r\"./Aleppo2017_processed.csv\",encoding='utf-8')\n",
    "print(df.head())"
   ]
  },
  {
   "cell_type": "code",
   "execution_count": 2,
   "id": "3a8bd3ac",
   "metadata": {},
   "outputs": [
    {
     "name": "stdout",
     "output_type": "stream",
     "text": [
      "Index([263,  77, 193, 277, 229, 245, 155, 251, 111, 164,\n",
      "       ...\n",
      "       128, 264, 186, 162, 249,  39,  52, 266, 223, 289],\n",
      "      dtype='int64', name='id', length=226)\n"
     ]
    }
   ],
   "source": [
    "ID = df['id'].value_counts().index\n",
    "pd.set_option('display.max_rows',100)\n",
    "print(ID)"
   ]
  },
  {
   "cell_type": "code",
   "execution_count": 3,
   "id": "576400f8",
   "metadata": {},
   "outputs": [
    {
     "name": "stdout",
     "output_type": "stream",
     "text": [
      "开始获取id为263的被试的数据：---------------------------------\n",
      "开始获取id为77的被试的数据：---------------------------------\n",
      "开始获取id为193的被试的数据：---------------------------------\n",
      "开始获取id为277的被试的数据：---------------------------------\n",
      "开始获取id为229的被试的数据：---------------------------------\n",
      "开始获取id为245的被试的数据：---------------------------------\n",
      "开始获取id为155的被试的数据：---------------------------------\n",
      "开始获取id为251的被试的数据：---------------------------------\n",
      "开始获取id为111的被试的数据：---------------------------------\n",
      "开始获取id为164的被试的数据：---------------------------------\n"
     ]
    }
   ],
   "source": [
    "all_data = []\n",
    "for i in ID[:10]:\n",
    "    #获取数据\n",
    "    print(\"开始获取id为{}的被试的数据：---------------------------------\".format(i))\n",
    "    data = df[df['id']== i].copy()\n",
    "\n",
    "    #将time列设成date数据类型\n",
    "    data['time'] = pd.to_datetime(data['time'])\n",
    "    \n",
    "    #按照时间排序\n",
    "    data = data.sort_values(by='time') \n",
    "    \n",
    "    #提取月为单独的一列\n",
    "    data['month'] = data['time'].dt.month\n",
    "    \n",
    "    #提取日为单独的一列\n",
    "    data['day'] = data['time'].dt.day\n",
    "    \n",
    "    #提取小时为单独的一列\n",
    "    data['hour'] = data['time'].dt.hour\n",
    "    \n",
    "    #提取分钟为单独的一列\n",
    "    data['minute'] = data['time'].dt.minute\n",
    "    \n",
    "    # 提取周几（0表示星期一，1表示星期二，依此类推）\n",
    "    data['weekday'] = data['time'].dt.dayofweek\n",
    "    \n",
    "    data = data.set_index('time')\n",
    "    \n",
    "    data['target'] = data['gl'].shift(-1)\n",
    "    \n",
    "    # 使用了shift函数，在最后必然是有缺失值的，这里去掉缺失值所在行\n",
    "    data.dropna()                     \n",
    "    data = data[['month','day','hour','minute','weekday','gl','target']][:1000].astype(np.float32).values  # 修改数据类型\n",
    "    all_data.append(data)"
   ]
  },
  {
   "cell_type": "code",
   "execution_count": 4,
   "id": "5564adf3",
   "metadata": {},
   "outputs": [
    {
     "name": "stdout",
     "output_type": "stream",
     "text": [
      "(10, 1000, 7)\n"
     ]
    }
   ],
   "source": [
    "all_data = np.array(all_data)\n",
    "print(all_data.shape)\n",
    "\n",
    "test_data_size = 100\n",
    "train_data = all_data[:,:-test_data_size,:]\n",
    "test_data = all_data[:,-test_data_size:,:]"
   ]
  },
  {
   "cell_type": "code",
   "execution_count": 5,
   "id": "47122d4c",
   "metadata": {
    "scrolled": false
   },
   "outputs": [
    {
     "name": "stdout",
     "output_type": "stream",
     "text": [
      "(10, 900, 7)\n",
      "(10, 100, 7)\n"
     ]
    }
   ],
   "source": [
    "print(train_data.shape)\n",
    "print(test_data.shape)"
   ]
  },
  {
   "cell_type": "code",
   "execution_count": 7,
   "id": "f25bac44",
   "metadata": {},
   "outputs": [
    {
     "data": {
      "text/plain": [
       "(10, 900, 7)"
      ]
     },
     "execution_count": 7,
     "metadata": {},
     "output_type": "execute_result"
    }
   ],
   "source": [
    "from sklearn.preprocessing import MinMaxScaler\n",
    "\n",
    "scaler = MinMaxScaler(feature_range=(-1, 1))\n",
    "normalized_data = scaler.fit_transform(train_data.reshape(-1, 7)).reshape(10, -1, 7)\n",
    "normalized_data.shape"
   ]
  },
  {
   "cell_type": "code",
   "execution_count": 8,
   "id": "bd39a55a",
   "metadata": {},
   "outputs": [
    {
     "name": "stdout",
     "output_type": "stream",
     "text": [
      "tensor([[-1.0000, -1.0000, -0.7391, -0.6271,  1.0000, -0.7278, -0.7389],\n",
      "        [-1.0000, -1.0000, -0.7391, -0.4576,  1.0000, -0.7389, -0.7556],\n",
      "        [-1.0000, -1.0000, -0.7391, -0.2881,  1.0000, -0.7556, -0.7611],\n",
      "        [-1.0000, -1.0000, -0.7391, -0.1186,  1.0000, -0.7611, -0.7667],\n",
      "        [-1.0000, -1.0000, -0.7391,  0.0508,  1.0000, -0.7667, -0.7722]])\n"
     ]
    }
   ],
   "source": [
    "import torch\n",
    "import torch.nn as nn\n",
    "normalized_data = torch.FloatTensor(normalized_data)\n",
    "print(normalized_data[0,:5,:])"
   ]
  },
  {
   "cell_type": "code",
   "execution_count": 9,
   "id": "5b69e375",
   "metadata": {},
   "outputs": [],
   "source": [
    "def create_inout_sequences(input_data, tw):\n",
    "    train_x = []\n",
    "    train_y = []\n",
    "    L = input_data.shape[1]\n",
    "    for j in range(input_data.shape[0]):\n",
    "        for i in range(L-tw):\n",
    "            train_seq = input_data[j,i:i+tw,:-1]\n",
    "            \n",
    "            train_label = input_data[j,i+tw:i+tw+1,-1]\n",
    "            \n",
    "            train_x.append(train_seq)\n",
    "            \n",
    "            train_y.append(train_label)\n",
    "            \n",
    "    train_x_tensor = torch.stack(train_x, dim=0)\n",
    "    train_y_tensor = torch.stack(train_y, dim=0)\n",
    "    return train_x_tensor, train_y_tensor"
   ]
  },
  {
   "cell_type": "code",
   "execution_count": 11,
   "id": "eb7aa670",
   "metadata": {},
   "outputs": [
    {
     "name": "stdout",
     "output_type": "stream",
     "text": [
      "torch.Size([8760, 24, 6])\n",
      "torch.Size([8760, 1])\n"
     ]
    }
   ],
   "source": [
    "from torch.utils.data import TensorDataset,DataLoader\n",
    "train_window = 24\n",
    "train_x, train_y = create_inout_sequences(normalized_data, train_window)\n",
    "print(train_x.shape)\n",
    "print(train_y.shape)\n",
    "train = TensorDataset(train_x,train_y)\n",
    "batch_size = 256\n",
    "train_loader = DataLoader(dataset=train,batch_size=batch_size, shuffle=False)"
   ]
  },
  {
   "cell_type": "code",
   "execution_count": 12,
   "id": "20970c99",
   "metadata": {},
   "outputs": [],
   "source": [
    "device = torch.device(\"cuda:0\")\n",
    "class myLSTM(nn.Module):\n",
    "    def __init__(self, input_dim, hidden_dim, num_layers, output_dim):\n",
    "        super(myLSTM, self).__init__()\n",
    "        # Hidden dimensions\n",
    "        self.hidden_dim = hidden_dim\n",
    "\n",
    "        # Number of hidden layers\n",
    "        self.num_layers = num_layers\n",
    "\n",
    "        # Building your LSTM\n",
    "        # batch_first=True causes input/output tensors to be of shape (batch_dim, seq_dim, feature_dim)\n",
    "        self.lstm = nn.LSTM(input_dim, hidden_dim, num_layers, batch_first=True)\n",
    "\n",
    "        # Readout layer 在LSTM后再加一个全连接层，因为是回归问题，所以不能在线性层后加激活函数\n",
    "        self.fc = nn.Linear(hidden_dim, output_dim)\n",
    "\n",
    "    def forward(self, x):\n",
    "        # Initialize hidden state with zeros\n",
    "        h0 = torch.zeros(self.num_layers, x.size(0), self.hidden_dim).requires_grad_().to(device)\n",
    "        # 这里x.size(0)就是batch_size\n",
    "\n",
    "        # Initialize cell state\n",
    "        c0 = torch.zeros(self.num_layers, x.size(0), self.hidden_dim).requires_grad_().to(device)\n",
    "\n",
    "        # One time step\n",
    "        # We need to detach as we are doing truncated backpropagation through time (BPTT)\n",
    "        # If we don't, we'll backprop all the way to the start even after going through another batch\n",
    "        out, (hn, cn) = self.lstm(x, (h0.detach(), c0.detach()))\n",
    "\n",
    "        out = self.fc(out[:, -1, :])\n",
    "\n",
    "        return out"
   ]
  },
  {
   "cell_type": "code",
   "execution_count": 13,
   "id": "68972999",
   "metadata": {},
   "outputs": [],
   "source": [
    "input_dim = 6  # 数据的特征数\n",
    "hidden_dim = 64  # 隐藏层的神经元个数\n",
    "num_layers = 2  # LSTM的层数\n",
    "output_dim = 1  # 预测值的特征数"
   ]
  },
  {
   "cell_type": "code",
   "execution_count": 14,
   "id": "750e038c",
   "metadata": {},
   "outputs": [],
   "source": [
    "model = myLSTM(input_dim=input_dim, hidden_dim=hidden_dim, output_dim=output_dim, num_layers=num_layers)\n",
    "if torch.cuda.is_available():\n",
    "    allen = model.cuda()"
   ]
  },
  {
   "cell_type": "code",
   "execution_count": 15,
   "id": "2f8751b7",
   "metadata": {},
   "outputs": [],
   "source": [
    "# 定义优化器和损失函数\n",
    "loss_fn = torch.nn.MSELoss(reduction='mean')  # 使用均方误差作为损失函数\n",
    "optimiser = torch.optim.Adam(model.parameters(), lr=0.01)  # 使用Adam优化算法\n",
    "if torch.cuda.is_available():\n",
    "    loss_fn = loss_fn.cuda()"
   ]
  },
  {
   "cell_type": "code",
   "execution_count": 18,
   "id": "7bee498d",
   "metadata": {
    "scrolled": true
   },
   "outputs": [
    {
     "name": "stdout",
     "output_type": "stream",
     "text": [
      "----------第 1 轮训练开始----------\n",
      "allen_0.pth 模型已保存\n",
      "----------第 2 轮训练开始----------\n",
      "训练次数：  50 MSE:  0.00386304734274745\n",
      "allen_1.pth 模型已保存\n",
      "----------第 3 轮训练开始----------\n",
      "训练次数：  100 MSE:  0.014306716620922089\n",
      "allen_2.pth 模型已保存\n",
      "----------第 4 轮训练开始----------\n",
      "allen_3.pth 模型已保存\n",
      "----------第 5 轮训练开始----------\n",
      "训练次数：  150 MSE:  0.010989725589752197\n",
      "allen_4.pth 模型已保存\n",
      "----------第 6 轮训练开始----------\n",
      "训练次数：  200 MSE:  0.003543516155332327\n",
      "allen_5.pth 模型已保存\n",
      "----------第 7 轮训练开始----------\n",
      "allen_6.pth 模型已保存\n",
      "----------第 8 轮训练开始----------\n",
      "训练次数：  250 MSE:  0.005935885012149811\n",
      "allen_7.pth 模型已保存\n",
      "----------第 9 轮训练开始----------\n",
      "训练次数：  300 MSE:  0.014758158475160599\n",
      "allen_8.pth 模型已保存\n",
      "----------第 10 轮训练开始----------\n",
      "训练次数：  350 MSE:  0.004744661971926689\n",
      "allen_9.pth 模型已保存\n",
      "----------第 11 轮训练开始----------\n",
      "allen_10.pth 模型已保存\n",
      "----------第 12 轮训练开始----------\n",
      "训练次数：  400 MSE:  0.0019580204971134663\n",
      "allen_11.pth 模型已保存\n",
      "----------第 13 轮训练开始----------\n",
      "训练次数：  450 MSE:  0.008847546763718128\n",
      "allen_12.pth 模型已保存\n",
      "----------第 14 轮训练开始----------\n",
      "allen_13.pth 模型已保存\n",
      "----------第 15 轮训练开始----------\n",
      "训练次数：  500 MSE:  0.002231777645647526\n",
      "allen_14.pth 模型已保存\n",
      "----------第 16 轮训练开始----------\n",
      "训练次数：  550 MSE:  0.002277179155498743\n",
      "allen_15.pth 模型已保存\n",
      "----------第 17 轮训练开始----------\n",
      "allen_16.pth 模型已保存\n",
      "----------第 18 轮训练开始----------\n",
      "训练次数：  600 MSE:  0.0052736070938408375\n",
      "allen_17.pth 模型已保存\n",
      "----------第 19 轮训练开始----------\n",
      "训练次数：  650 MSE:  0.01351923681795597\n",
      "allen_18.pth 模型已保存\n",
      "----------第 20 轮训练开始----------\n",
      "训练次数：  700 MSE:  0.004185856319963932\n",
      "allen_19.pth 模型已保存\n",
      "----------第 21 轮训练开始----------\n",
      "allen_20.pth 模型已保存\n",
      "----------第 22 轮训练开始----------\n",
      "训练次数：  750 MSE:  0.0015938763972371817\n",
      "allen_21.pth 模型已保存\n",
      "----------第 23 轮训练开始----------\n",
      "训练次数：  800 MSE:  0.005008493084460497\n",
      "allen_22.pth 模型已保存\n",
      "----------第 24 轮训练开始----------\n",
      "allen_23.pth 模型已保存\n",
      "----------第 25 轮训练开始----------\n",
      "训练次数：  850 MSE:  0.001454101875424385\n",
      "allen_24.pth 模型已保存\n",
      "----------第 26 轮训练开始----------\n",
      "训练次数：  900 MSE:  0.0020172777585685253\n",
      "allen_25.pth 模型已保存\n",
      "----------第 27 轮训练开始----------\n",
      "allen_26.pth 模型已保存\n",
      "----------第 28 轮训练开始----------\n",
      "训练次数：  950 MSE:  0.013681065291166306\n",
      "allen_27.pth 模型已保存\n",
      "----------第 29 轮训练开始----------\n",
      "训练次数：  1000 MSE:  0.01604217104613781\n",
      "allen_28.pth 模型已保存\n",
      "----------第 30 轮训练开始----------\n",
      "训练次数：  1050 MSE:  0.005067593418061733\n",
      "allen_29.pth 模型已保存\n",
      "----------第 31 轮训练开始----------\n",
      "allen_30.pth 模型已保存\n",
      "----------第 32 轮训练开始----------\n",
      "训练次数：  1100 MSE:  0.0017553177895024419\n",
      "allen_31.pth 模型已保存\n",
      "----------第 33 轮训练开始----------\n",
      "训练次数：  1150 MSE:  0.004681304097175598\n",
      "allen_32.pth 模型已保存\n",
      "----------第 34 轮训练开始----------\n",
      "allen_33.pth 模型已保存\n",
      "----------第 35 轮训练开始----------\n",
      "训练次数：  1200 MSE:  0.0014418489299714565\n",
      "allen_34.pth 模型已保存\n",
      "----------第 36 轮训练开始----------\n",
      "训练次数：  1250 MSE:  0.0011293924180790782\n",
      "allen_35.pth 模型已保存\n",
      "----------第 37 轮训练开始----------\n",
      "allen_36.pth 模型已保存\n",
      "----------第 38 轮训练开始----------\n",
      "训练次数：  1300 MSE:  0.005420929752290249\n",
      "allen_37.pth 模型已保存\n",
      "----------第 39 轮训练开始----------\n",
      "训练次数：  1350 MSE:  0.013958108611404896\n",
      "allen_38.pth 模型已保存\n",
      "----------第 40 轮训练开始----------\n",
      "训练次数：  1400 MSE:  0.004242918454110622\n",
      "allen_39.pth 模型已保存\n",
      "----------第 41 轮训练开始----------\n",
      "allen_40.pth 模型已保存\n",
      "----------第 42 轮训练开始----------\n",
      "训练次数：  1450 MSE:  0.0028110546991229057\n",
      "allen_41.pth 模型已保存\n",
      "----------第 43 轮训练开始----------\n",
      "训练次数：  1500 MSE:  0.007122250273823738\n",
      "allen_42.pth 模型已保存\n",
      "----------第 44 轮训练开始----------\n",
      "allen_43.pth 模型已保存\n",
      "----------第 45 轮训练开始----------\n",
      "训练次数：  1550 MSE:  0.0024498847778886557\n",
      "allen_44.pth 模型已保存\n",
      "----------第 46 轮训练开始----------\n",
      "训练次数：  1600 MSE:  0.0006862070295028389\n",
      "allen_45.pth 模型已保存\n",
      "----------第 47 轮训练开始----------\n",
      "allen_46.pth 模型已保存\n",
      "----------第 48 轮训练开始----------\n",
      "训练次数：  1650 MSE:  0.008547529578208923\n",
      "allen_47.pth 模型已保存\n",
      "----------第 49 轮训练开始----------\n",
      "训练次数：  1700 MSE:  0.01338774710893631\n",
      "allen_48.pth 模型已保存\n",
      "----------第 50 轮训练开始----------\n",
      "训练次数：  1750 MSE:  0.00370684452354908\n",
      "allen_49.pth 模型已保存\n"
     ]
    }
   ],
   "source": [
    "# from torch.utils.tensorboard import SummaryWriter\n",
    "# writer = SummaryWriter(\"E:\\pythonProject\\RNN_study\\logs\")\n",
    "\n",
    "# 设定数据遍历次数\n",
    "num_epochs = 50\n",
    "# 记录训练次数\n",
    "total_train_step = 0\n",
    "# 记录测试次数\n",
    "total_test_step = 0\n",
    "\n",
    "for t in range(num_epochs):\n",
    "    print(\"----------第 {} 轮训练开始----------\".format(t + 1))\n",
    "    model.train()\n",
    "    for data in train_loader:\n",
    "        trains, targets = data\n",
    "\n",
    "        if torch.cuda.is_available():\n",
    "            trains = trains.cuda()\n",
    "            targets = targets.cuda()\n",
    "            \n",
    "        y_train_pred = model(trains)\n",
    "#         print(\"targets.shape:\", targets.shape)\n",
    "#         print(\"y_train_pred.shape\",y_train_pred.shape)\n",
    "        loss = loss_fn(y_train_pred, targets)\n",
    "#         print(\"MSE: \",loss)\n",
    "        optimiser.zero_grad()  # 梯度清零\n",
    "\n",
    "        # Backward pass\n",
    "        loss.backward()  # 反向传播\n",
    "\n",
    "        # Update parameters\n",
    "        optimiser.step()  # 参数优化\n",
    "        \n",
    "        total_train_step += 1\n",
    "        \n",
    "        if total_train_step % 50 == 0 :  # 每训练100次，打印一次均方差\n",
    "            print(\"训练次数： \", total_train_step, \"MSE: \", loss.item())\n",
    "        # 逢100记录一次Loss\n",
    "        \n",
    "#         writer.add_scalar(\"train_loss\", loss.item(), total_train_step)\n",
    "        \n",
    "    torch.save(model, r\"E:\\pythonProject\\RNN_study\\CGM\\pre_trained_model\\allen_{}.pth\".format(t))\n",
    "    \n",
    "    print(\"allen_{}.pth 模型已保存\".format(t))\n",
    "    \n",
    "# writer.close()"
   ]
  },
  {
   "cell_type": "code",
   "execution_count": 24,
   "id": "eeaec9f8",
   "metadata": {},
   "outputs": [
    {
     "name": "stdout",
     "output_type": "stream",
     "text": [
      "torch.Size([10, 24, 6])\n"
     ]
    }
   ],
   "source": [
    "test_inputs = normalized_data[:,-train_window:,:-1]\n",
    "print(test_inputs.shape)"
   ]
  },
  {
   "cell_type": "code",
   "execution_count": 25,
   "id": "ef658701",
   "metadata": {},
   "outputs": [
    {
     "name": "stdout",
     "output_type": "stream",
     "text": [
      "myLSTM(\n",
      "  (lstm): LSTM(6, 64, num_layers=2, batch_first=True)\n",
      "  (fc): Linear(in_features=64, out_features=1, bias=True)\n",
      ")\n"
     ]
    }
   ],
   "source": [
    "model = torch.load(r\"E:\\pythonProject\\RNN_study\\CGM\\pre_trained_model\\allen_49.pth\")\n",
    "print(model)\n",
    "fut_pred = 1\n",
    "model.eval()\n",
    "test_inputs = torch.FloatTensor(test_inputs).cuda()"
   ]
  },
  {
   "cell_type": "code",
   "execution_count": 26,
   "id": "99037fda",
   "metadata": {},
   "outputs": [
    {
     "name": "stdout",
     "output_type": "stream",
     "text": [
      "tensor([[ 0.1024],\n",
      "        [ 0.1376],\n",
      "        [-0.3159],\n",
      "        [-0.8473],\n",
      "        [-0.5585],\n",
      "        [-0.3041],\n",
      "        [-0.8880],\n",
      "        [-0.7875],\n",
      "        [-0.7458],\n",
      "        [-0.0441]], device='cuda:0')\n",
      "torch.Size([10, 24, 6])\n"
     ]
    }
   ],
   "source": [
    "for i in range(fut_pred):    \n",
    "    with torch.no_grad():\n",
    "        output = model(test_inputs[:,-train_window:,:])\n",
    "#         print(output.shape)\n",
    "#         test_inputs = torch.cat((test_inputs,output.unsqueeze(1)), dim=1)\n",
    "print(output)\n",
    "print(test_inputs.shape)"
   ]
  },
  {
   "cell_type": "code",
   "execution_count": 207,
   "id": "f2bfdaab",
   "metadata": {},
   "outputs": [
    {
     "name": "stdout",
     "output_type": "stream",
     "text": [
      "[[[  4.         10.          0.         48.          4.\n",
      "   122.999985 ]\n",
      "  [  4.         10.          0.         53.          4.\n",
      "   127.       ]\n",
      "  [  4.         10.          0.         58.          4.\n",
      "   131.       ]\n",
      "  ...\n",
      "  [  5.7886004  15.964431   13.652189   31.976622    3.5035152\n",
      "   263.64523  ]\n",
      "  [  5.7566752  16.536491   13.356014   32.221878    3.8886912\n",
      "   261.8403   ]\n",
      "  [  6.047967   20.115759   13.271953   31.217724    3.147628\n",
      "   257.05115  ]]\n",
      "\n",
      " [[  3.         25.          0.         35.          2.\n",
      "   224.       ]\n",
      "  [  3.         25.          0.         40.          2.\n",
      "   228.       ]\n",
      "  [  3.         25.          0.         45.          2.\n",
      "   232.       ]\n",
      "  ...\n",
      "  [  5.7561674  22.130924   12.588385   30.987165    3.4109502\n",
      "   253.4126   ]\n",
      "  [  6.002771   14.092164   13.16369    32.632942    3.7349918\n",
      "   282.3797   ]\n",
      "  [  5.798568   19.812193   12.686945   30.404707    3.189527\n",
      "   251.26282  ]]\n",
      "\n",
      " [[  4.          3.9999995  12.         18.          5.\n",
      "   118.       ]\n",
      "  [  4.          3.9999995  12.         23.          5.\n",
      "    98.       ]\n",
      "  [  4.          3.9999995  12.         28.          5.\n",
      "    99.00001  ]\n",
      "  ...\n",
      "  [  6.1924343  13.472576   12.941747   32.837578    4.707787\n",
      "   214.77956  ]\n",
      "  [  4.1533985  15.432467   12.979707   32.62377     5.4250126\n",
      "   220.02814  ]\n",
      "  [  5.3194885  11.786318   12.823936   32.39701     4.1832466\n",
      "   217.16798  ]]\n",
      "\n",
      " ...\n",
      "\n",
      " [[  6.         26.         10.         26.          4.\n",
      "   161.       ]\n",
      "  [  6.         26.         10.         30.999998    4.\n",
      "   162.       ]\n",
      "  [  6.         26.         10.         36.          4.\n",
      "   164.       ]\n",
      "  ...\n",
      "  [  6.5623384  20.695938   12.690305   31.109005    3.598385\n",
      "   259.52466  ]\n",
      "  [  5.8015914  16.470055   13.35573    31.973455    5.222623\n",
      "   259.40955  ]\n",
      "  [  7.2703366  18.82316    12.939866   31.667456    4.3637457\n",
      "   235.74132  ]]\n",
      "\n",
      " [[  6.         26.          5.         52.          4.\n",
      "   148.00002  ]\n",
      "  [  6.         26.          5.         57.          4.\n",
      "   158.       ]\n",
      "  [  6.         26.          6.          1.9999993   4.\n",
      "   173.       ]\n",
      "  ...\n",
      "  [  5.629197   17.349829   13.093333   32.169952    5.5184364\n",
      "   255.72047  ]\n",
      "  [  6.3431115  18.685741   12.827043   31.226744    4.9288764\n",
      "   259.0189   ]\n",
      "  [  5.635014   18.314135   13.592535   31.98314     4.841258\n",
      "   247.49132  ]]\n",
      "\n",
      " [[  5.          7.          0.         18.          3.\n",
      "   248.       ]\n",
      "  [  5.          7.          0.         23.          3.\n",
      "   245.99998  ]\n",
      "  [  5.          7.          0.         28.          3.\n",
      "   245.99998  ]\n",
      "  ...\n",
      "  [  7.7525153  13.519109   12.551294   31.736555    2.5854352\n",
      "   237.14198  ]\n",
      "  [  5.671498   12.300669   12.98104    32.897274    2.9175284\n",
      "   228.32663  ]\n",
      "  [  5.362627   11.867233   13.361185   32.04961     3.7407053\n",
      "   224.14311  ]]]\n"
     ]
    }
   ],
   "source": [
    "test_inputs = test_inputs.cpu()\n",
    "test_inputs_targets = scaler.inverse_transform(np.array(test_inputs.view(-1,6)))\n",
    "test_inputs_targets = test_inputs_targets.reshape(100,-1,6)\n",
    "print(test_inputs_targets)"
   ]
  },
  {
   "cell_type": "code",
   "execution_count": 208,
   "id": "1e590ffc",
   "metadata": {},
   "outputs": [
    {
     "name": "stdout",
     "output_type": "stream",
     "text": [
      "(100, 24)\n"
     ]
    }
   ],
   "source": [
    "predict = test_inputs_targets[:,24:,-1]\n",
    "print(predict.shape)"
   ]
  },
  {
   "cell_type": "code",
   "execution_count": 209,
   "id": "bb2bcd36",
   "metadata": {},
   "outputs": [
    {
     "data": {
      "text/plain": [
       "array([[218.19771, 234.47444, 253.93045, ..., 263.64523, 261.8403 ,\n",
       "        257.05115],\n",
       "       [229.1257 , 229.89891, 207.19931, ..., 253.4126 , 282.3797 ,\n",
       "        251.26282],\n",
       "       [226.17451, 249.52155, 232.66759, ..., 214.77956, 220.02814,\n",
       "        217.16798],\n",
       "       ...,\n",
       "       [273.6846 , 233.81212, 261.80203, ..., 259.52466, 259.40955,\n",
       "        235.74132],\n",
       "       [243.52847, 265.4722 , 263.29922, ..., 255.72047, 259.0189 ,\n",
       "        247.49132],\n",
       "       [234.84009, 278.40457, 231.4926 , ..., 237.14198, 228.32663,\n",
       "        224.14311]], dtype=float32)"
      ]
     },
     "execution_count": 209,
     "metadata": {},
     "output_type": "execute_result"
    }
   ],
   "source": [
    "predict"
   ]
  },
  {
   "cell_type": "code",
   "execution_count": 224,
   "id": "44cbfa6b",
   "metadata": {},
   "outputs": [
    {
     "data": {
      "image/png": "[encoded data removed]",
      "text/plain": [
       "<Figure size 640x480 with 1 Axes>"
      ]
     },
     "metadata": {},
     "output_type": "display_data"
    }
   ],
   "source": [
    "x = np.arange(4900,4924,1)\n",
    "# print(x)\n",
    "from matplotlib import pyplot as plt\n",
    "# plt.figure(figsize=(20,8),dpi=80)\n",
    "\n",
    "plt.title('Times vs blood')\n",
    "plt.ylabel('Blood Glucose')\n",
    "plt.grid(True)\n",
    "plt.autoscale(axis='x', tight=True)\n",
    "\n",
    "plt.plot(x,test_data[20,:24,-1], label='targets',color='orange')\n",
    "plt.plot(x,predict[20], label='predict',color='cyan')\n",
    "plt.legend()\n",
    "plt.show()"
   ]
  },
  {
   "cell_type": "code",
   "execution_count": 213,
   "id": "a3a6f9fe",
   "metadata": {},
   "outputs": [
    {
     "data": {
      "text/plain": [
       "(100, 50, 6)"
      ]
     },
     "execution_count": 213,
     "metadata": {},
     "output_type": "execute_result"
    }
   ],
   "source": [
    "test_data.shape"
   ]
  },
  {
   "cell_type": "code",
   "execution_count": null,
   "id": "bd642e21",
   "metadata": {},
   "outputs": [],
   "source": []
  }
 ],
 "metadata": {
  "kernelspec": {
   "display_name": "pytorch",
   "language": "python",
   "name": "pytorch02"
  },
  "language_info": {
   "codemirror_mode": {
    "name": "ipython",
    "version": 3
   },
   "file_extension": ".py",
   "mimetype": "text/x-python",
   "name": "python",
   "nbconvert_exporter": "python",
   "pygments_lexer": "ipython3",
   "version": "3.8.17"
  }
 },
 "nbformat": 4,
 "nbformat_minor": 5
}
