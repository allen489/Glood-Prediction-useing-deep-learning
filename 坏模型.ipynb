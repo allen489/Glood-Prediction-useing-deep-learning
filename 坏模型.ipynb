{
 "cells": [
  {
   "cell_type": "code",
   "execution_count": 1,
   "id": "923b1396",
   "metadata": {},
   "outputs": [],
   "source": [
    "import numpy as np\n",
    "import pandas as pd\n",
    "import matplotlib.pyplot as plt\n",
    "import torch\n",
    "from torch.utils.data import TensorDataset,DataLoader"
   ]
  },
  {
   "cell_type": "code",
   "execution_count": 2,
   "id": "eff65c9b",
   "metadata": {},
   "outputs": [
    {
     "name": "stdout",
     "output_type": "stream",
     "text": [
      "    id                 time     gl\n",
      "0  183  2015-05-16 05:35:41  162.0\n",
      "1  183  2015-05-16 05:30:41  164.0\n",
      "2  183  2015-05-16 05:25:41  168.0\n",
      "3  183  2015-05-16 05:20:41  169.0\n",
      "4  183  2015-05-16 05:15:41  170.0\n"
     ]
    }
   ],
   "source": [
    "df = pd.read_csv(r\"./Aleppo2017_processed.csv\",encoding='utf-8')\n",
    "print(df.head())"
   ]
  },
  {
   "cell_type": "code",
   "execution_count": 14,
   "id": "a9111f77",
   "metadata": {},
   "outputs": [
    {
     "name": "stdout",
     "output_type": "stream",
     "text": [
      "Index([263,  77, 193, 277, 229, 245, 155, 251, 111, 164,\n",
      "       ...\n",
      "       128, 264, 186, 162, 249,  39,  52, 266, 223, 289],\n",
      "      dtype='int64', name='id', length=226)\n"
     ]
    }
   ],
   "source": [
    "ID = df['id'].value_counts().index\n",
    "pd.set_option('display.max_rows',100)\n",
    "print(ID)"
   ]
  },
  {
   "cell_type": "code",
   "execution_count": 132,
   "id": "1f33d83c",
   "metadata": {},
   "outputs": [
    {
     "name": "stdout",
     "output_type": "stream",
     "text": [
      "开始获取id为9的被试的数据：---------------------------------\n"
     ]
    }
   ],
   "source": [
    "#获取数据\n",
    "print(\"开始获取id为{}的被试的数据：---------------------------------\".format(i))\n",
    "data = df[df['id']== 229].copy() \n",
    "\n",
    "#将time列设成date数据类型\n",
    "data['time'] = pd.to_datetime(data['time'])\n",
    "\n",
    "#按照时间排序\n",
    "data = data.sort_values(by='time') \n",
    "\n",
    "#提取月为单独的一列\n",
    "data['month'] = data['time'].dt.month\n",
    "\n",
    "#提取日为单独的一列\n",
    "data['day'] = data['time'].dt.day\n",
    "\n",
    "#提取小时为单独的一列\n",
    "data['hour'] = data['time'].dt.hour\n",
    "\n",
    "#提取分钟为单独的一列\n",
    "data['minute'] = data['time'].dt.minute\n",
    "\n",
    "# 提取周几（0表示星期一，1表示星期二，依此类推）\n",
    "data['weekday'] = data['time'].dt.dayofweek\n",
    "\n",
    "data = data.set_index('time')\n",
    "\n",
    "# data['target'] = data['gl'].shift(-1)\n",
    "\n",
    "# 使用了shift函数，在最后必然是有缺失值的，这里去掉缺失值所在行\n",
    "# data.dropna()            \n",
    "\n",
    "data = data[['month','day','hour','minute','weekday','gl']][:50000].astype(np.float32) # 修改数据类型"
   ]
  },
  {
   "cell_type": "code",
   "execution_count": 133,
   "id": "78b2c326",
   "metadata": {},
   "outputs": [
    {
     "name": "stdout",
     "output_type": "stream",
     "text": [
      "(50000, 6)\n"
     ]
    }
   ],
   "source": [
    "# all_data = np.array(all_data)\n",
    "# all_data = all_data.reshape(-1,6)\n",
    "print(data.shape)"
   ]
  },
  {
   "cell_type": "code",
   "execution_count": 134,
   "id": "33fe7aa5",
   "metadata": {},
   "outputs": [
    {
     "data": {
      "text/html": [
       "<div>\n",
       "<style scoped>\n",
       "    .dataframe tbody tr th:only-of-type {\n",
       "        vertical-align: middle;\n",
       "    }\n",
       "\n",
       "    .dataframe tbody tr th {\n",
       "        vertical-align: top;\n",
       "    }\n",
       "\n",
       "    .dataframe thead th {\n",
       "        text-align: right;\n",
       "    }\n",
       "</style>\n",
       "<table border=\"1\" class=\"dataframe\">\n",
       "  <thead>\n",
       "    <tr style=\"text-align: right;\">\n",
       "      <th></th>\n",
       "      <th>month</th>\n",
       "      <th>day</th>\n",
       "      <th>hour</th>\n",
       "      <th>minute</th>\n",
       "      <th>weekday</th>\n",
       "      <th>gl</th>\n",
       "    </tr>\n",
       "    <tr>\n",
       "      <th>time</th>\n",
       "      <th></th>\n",
       "      <th></th>\n",
       "      <th></th>\n",
       "      <th></th>\n",
       "      <th></th>\n",
       "      <th></th>\n",
       "    </tr>\n",
       "  </thead>\n",
       "  <tbody>\n",
       "    <tr>\n",
       "      <th>2014-09-11 10:53:55</th>\n",
       "      <td>1.0</td>\n",
       "      <td>-0.333333</td>\n",
       "      <td>-0.130435</td>\n",
       "      <td>0.796610</td>\n",
       "      <td>0.000000</td>\n",
       "      <td>-0.578947</td>\n",
       "    </tr>\n",
       "    <tr>\n",
       "      <th>2014-09-11 10:58:55</th>\n",
       "      <td>1.0</td>\n",
       "      <td>-0.333333</td>\n",
       "      <td>-0.130435</td>\n",
       "      <td>0.966102</td>\n",
       "      <td>0.000000</td>\n",
       "      <td>-0.623269</td>\n",
       "    </tr>\n",
       "    <tr>\n",
       "      <th>2014-09-11 11:03:55</th>\n",
       "      <td>1.0</td>\n",
       "      <td>-0.333333</td>\n",
       "      <td>-0.043478</td>\n",
       "      <td>-0.898305</td>\n",
       "      <td>0.000000</td>\n",
       "      <td>-0.662050</td>\n",
       "    </tr>\n",
       "    <tr>\n",
       "      <th>2014-09-11 11:08:55</th>\n",
       "      <td>1.0</td>\n",
       "      <td>-0.333333</td>\n",
       "      <td>-0.043478</td>\n",
       "      <td>-0.728814</td>\n",
       "      <td>0.000000</td>\n",
       "      <td>-0.684211</td>\n",
       "    </tr>\n",
       "    <tr>\n",
       "      <th>2015-01-09 16:03:00</th>\n",
       "      <td>-1.0</td>\n",
       "      <td>-0.466667</td>\n",
       "      <td>0.391304</td>\n",
       "      <td>-0.898305</td>\n",
       "      <td>0.333333</td>\n",
       "      <td>-0.495845</td>\n",
       "    </tr>\n",
       "  </tbody>\n",
       "</table>\n",
       "</div>"
      ],
      "text/plain": [
       "                     month       day      hour    minute   weekday        gl\n",
       "time                                                                        \n",
       "2014-09-11 10:53:55    1.0 -0.333333 -0.130435  0.796610  0.000000 -0.578947\n",
       "2014-09-11 10:58:55    1.0 -0.333333 -0.130435  0.966102  0.000000 -0.623269\n",
       "2014-09-11 11:03:55    1.0 -0.333333 -0.043478 -0.898305  0.000000 -0.662050\n",
       "2014-09-11 11:08:55    1.0 -0.333333 -0.043478 -0.728814  0.000000 -0.684211\n",
       "2015-01-09 16:03:00   -1.0 -0.466667  0.391304 -0.898305  0.333333 -0.495845"
      ]
     },
     "execution_count": 134,
     "metadata": {},
     "output_type": "execute_result"
    }
   ],
   "source": [
    "# 数据缩放\n",
    "sel_col = ['month','day','hour','minute','weekday','gl']\n",
    "from sklearn.preprocessing import MinMaxScaler\n",
    "scaler = MinMaxScaler(feature_range=(-1, 1))  \n",
    "# normalized_data = np.ones_like(all_data)\n",
    "\n",
    "# 这里不能进行统一进行缩放，因为fit_transform返回值是numpy类型\n",
    "for col in sel_col:                           \n",
    "    data[col] = scaler.fit_transform(data[col].values.reshape(-1,1))\n",
    "data.head()"
   ]
  },
  {
   "cell_type": "code",
   "execution_count": 135,
   "id": "f8f1fb6a",
   "metadata": {},
   "outputs": [
    {
     "data": {
      "text/html": [
       "<div>\n",
       "<style scoped>\n",
       "    .dataframe tbody tr th:only-of-type {\n",
       "        vertical-align: middle;\n",
       "    }\n",
       "\n",
       "    .dataframe tbody tr th {\n",
       "        vertical-align: top;\n",
       "    }\n",
       "\n",
       "    .dataframe thead th {\n",
       "        text-align: right;\n",
       "    }\n",
       "</style>\n",
       "<table border=\"1\" class=\"dataframe\">\n",
       "  <thead>\n",
       "    <tr style=\"text-align: right;\">\n",
       "      <th></th>\n",
       "      <th>month</th>\n",
       "      <th>day</th>\n",
       "      <th>hour</th>\n",
       "      <th>minute</th>\n",
       "      <th>weekday</th>\n",
       "      <th>gl</th>\n",
       "      <th>target</th>\n",
       "    </tr>\n",
       "    <tr>\n",
       "      <th>time</th>\n",
       "      <th></th>\n",
       "      <th></th>\n",
       "      <th></th>\n",
       "      <th></th>\n",
       "      <th></th>\n",
       "      <th></th>\n",
       "      <th></th>\n",
       "    </tr>\n",
       "  </thead>\n",
       "  <tbody>\n",
       "    <tr>\n",
       "      <th>2014-09-11 10:53:55</th>\n",
       "      <td>1.0</td>\n",
       "      <td>-0.333333</td>\n",
       "      <td>-0.130435</td>\n",
       "      <td>0.796610</td>\n",
       "      <td>0.000000</td>\n",
       "      <td>-0.578947</td>\n",
       "      <td>-0.623269</td>\n",
       "    </tr>\n",
       "    <tr>\n",
       "      <th>2014-09-11 10:58:55</th>\n",
       "      <td>1.0</td>\n",
       "      <td>-0.333333</td>\n",
       "      <td>-0.130435</td>\n",
       "      <td>0.966102</td>\n",
       "      <td>0.000000</td>\n",
       "      <td>-0.623269</td>\n",
       "      <td>-0.662050</td>\n",
       "    </tr>\n",
       "    <tr>\n",
       "      <th>2014-09-11 11:03:55</th>\n",
       "      <td>1.0</td>\n",
       "      <td>-0.333333</td>\n",
       "      <td>-0.043478</td>\n",
       "      <td>-0.898305</td>\n",
       "      <td>0.000000</td>\n",
       "      <td>-0.662050</td>\n",
       "      <td>-0.684211</td>\n",
       "    </tr>\n",
       "    <tr>\n",
       "      <th>2014-09-11 11:08:55</th>\n",
       "      <td>1.0</td>\n",
       "      <td>-0.333333</td>\n",
       "      <td>-0.043478</td>\n",
       "      <td>-0.728814</td>\n",
       "      <td>0.000000</td>\n",
       "      <td>-0.684211</td>\n",
       "      <td>-0.495845</td>\n",
       "    </tr>\n",
       "    <tr>\n",
       "      <th>2015-01-09 16:03:00</th>\n",
       "      <td>-1.0</td>\n",
       "      <td>-0.466667</td>\n",
       "      <td>0.391304</td>\n",
       "      <td>-0.898305</td>\n",
       "      <td>0.333333</td>\n",
       "      <td>-0.495845</td>\n",
       "      <td>-0.490305</td>\n",
       "    </tr>\n",
       "  </tbody>\n",
       "</table>\n",
       "</div>"
      ],
      "text/plain": [
       "                     month       day      hour    minute   weekday        gl  \\\n",
       "time                                                                           \n",
       "2014-09-11 10:53:55    1.0 -0.333333 -0.130435  0.796610  0.000000 -0.578947   \n",
       "2014-09-11 10:58:55    1.0 -0.333333 -0.130435  0.966102  0.000000 -0.623269   \n",
       "2014-09-11 11:03:55    1.0 -0.333333 -0.043478 -0.898305  0.000000 -0.662050   \n",
       "2014-09-11 11:08:55    1.0 -0.333333 -0.043478 -0.728814  0.000000 -0.684211   \n",
       "2015-01-09 16:03:00   -1.0 -0.466667  0.391304 -0.898305  0.333333 -0.495845   \n",
       "\n",
       "                       target  \n",
       "time                           \n",
       "2014-09-11 10:53:55 -0.623269  \n",
       "2014-09-11 10:58:55 -0.662050  \n",
       "2014-09-11 11:03:55 -0.684211  \n",
       "2014-09-11 11:08:55 -0.495845  \n",
       "2015-01-09 16:03:00 -0.490305  "
      ]
     },
     "execution_count": 135,
     "metadata": {},
     "output_type": "execute_result"
    }
   ],
   "source": [
    "data['target'] = data['gl'].shift(-1)   \n",
    "data.head()"
   ]
  },
  {
   "cell_type": "code",
   "execution_count": 136,
   "id": "7de4fb63",
   "metadata": {},
   "outputs": [
    {
     "data": {
      "text/html": [
       "<div>\n",
       "<style scoped>\n",
       "    .dataframe tbody tr th:only-of-type {\n",
       "        vertical-align: middle;\n",
       "    }\n",
       "\n",
       "    .dataframe tbody tr th {\n",
       "        vertical-align: top;\n",
       "    }\n",
       "\n",
       "    .dataframe thead th {\n",
       "        text-align: right;\n",
       "    }\n",
       "</style>\n",
       "<table border=\"1\" class=\"dataframe\">\n",
       "  <thead>\n",
       "    <tr style=\"text-align: right;\">\n",
       "      <th></th>\n",
       "      <th>month</th>\n",
       "      <th>day</th>\n",
       "      <th>hour</th>\n",
       "      <th>minute</th>\n",
       "      <th>weekday</th>\n",
       "      <th>gl</th>\n",
       "      <th>target</th>\n",
       "    </tr>\n",
       "    <tr>\n",
       "      <th>time</th>\n",
       "      <th></th>\n",
       "      <th></th>\n",
       "      <th></th>\n",
       "      <th></th>\n",
       "      <th></th>\n",
       "      <th></th>\n",
       "      <th></th>\n",
       "    </tr>\n",
       "  </thead>\n",
       "  <tbody>\n",
       "    <tr>\n",
       "      <th>2014-09-11 10:53:55</th>\n",
       "      <td>1.0</td>\n",
       "      <td>-0.333333</td>\n",
       "      <td>-0.130435</td>\n",
       "      <td>0.796610</td>\n",
       "      <td>0.000000</td>\n",
       "      <td>-0.578947</td>\n",
       "      <td>-0.623269</td>\n",
       "    </tr>\n",
       "    <tr>\n",
       "      <th>2014-09-11 10:58:55</th>\n",
       "      <td>1.0</td>\n",
       "      <td>-0.333333</td>\n",
       "      <td>-0.130435</td>\n",
       "      <td>0.966102</td>\n",
       "      <td>0.000000</td>\n",
       "      <td>-0.623269</td>\n",
       "      <td>-0.662050</td>\n",
       "    </tr>\n",
       "    <tr>\n",
       "      <th>2014-09-11 11:03:55</th>\n",
       "      <td>1.0</td>\n",
       "      <td>-0.333333</td>\n",
       "      <td>-0.043478</td>\n",
       "      <td>-0.898305</td>\n",
       "      <td>0.000000</td>\n",
       "      <td>-0.662050</td>\n",
       "      <td>-0.684211</td>\n",
       "    </tr>\n",
       "    <tr>\n",
       "      <th>2014-09-11 11:08:55</th>\n",
       "      <td>1.0</td>\n",
       "      <td>-0.333333</td>\n",
       "      <td>-0.043478</td>\n",
       "      <td>-0.728814</td>\n",
       "      <td>0.000000</td>\n",
       "      <td>-0.684211</td>\n",
       "      <td>-0.495845</td>\n",
       "    </tr>\n",
       "    <tr>\n",
       "      <th>2015-01-09 16:03:00</th>\n",
       "      <td>-1.0</td>\n",
       "      <td>-0.466667</td>\n",
       "      <td>0.391304</td>\n",
       "      <td>-0.898305</td>\n",
       "      <td>0.333333</td>\n",
       "      <td>-0.495845</td>\n",
       "      <td>-0.490305</td>\n",
       "    </tr>\n",
       "    <tr>\n",
       "      <th>...</th>\n",
       "      <td>...</td>\n",
       "      <td>...</td>\n",
       "      <td>...</td>\n",
       "      <td>...</td>\n",
       "      <td>...</td>\n",
       "      <td>...</td>\n",
       "      <td>...</td>\n",
       "    </tr>\n",
       "    <tr>\n",
       "      <th>2015-07-11 05:18:48</th>\n",
       "      <td>0.5</td>\n",
       "      <td>-0.333333</td>\n",
       "      <td>-0.565217</td>\n",
       "      <td>-0.389831</td>\n",
       "      <td>0.666667</td>\n",
       "      <td>-0.473684</td>\n",
       "      <td>-0.484765</td>\n",
       "    </tr>\n",
       "    <tr>\n",
       "      <th>2015-07-11 05:23:48</th>\n",
       "      <td>0.5</td>\n",
       "      <td>-0.333333</td>\n",
       "      <td>-0.565217</td>\n",
       "      <td>-0.220339</td>\n",
       "      <td>0.666667</td>\n",
       "      <td>-0.484765</td>\n",
       "      <td>-0.490305</td>\n",
       "    </tr>\n",
       "    <tr>\n",
       "      <th>2015-07-11 05:28:48</th>\n",
       "      <td>0.5</td>\n",
       "      <td>-0.333333</td>\n",
       "      <td>-0.565217</td>\n",
       "      <td>-0.050847</td>\n",
       "      <td>0.666667</td>\n",
       "      <td>-0.490305</td>\n",
       "      <td>-0.479224</td>\n",
       "    </tr>\n",
       "    <tr>\n",
       "      <th>2015-07-11 05:33:48</th>\n",
       "      <td>0.5</td>\n",
       "      <td>-0.333333</td>\n",
       "      <td>-0.565217</td>\n",
       "      <td>0.118644</td>\n",
       "      <td>0.666667</td>\n",
       "      <td>-0.479224</td>\n",
       "      <td>-0.468144</td>\n",
       "    </tr>\n",
       "    <tr>\n",
       "      <th>2015-07-11 05:38:48</th>\n",
       "      <td>0.5</td>\n",
       "      <td>-0.333333</td>\n",
       "      <td>-0.565217</td>\n",
       "      <td>0.288136</td>\n",
       "      <td>0.666667</td>\n",
       "      <td>-0.468144</td>\n",
       "      <td>-0.451524</td>\n",
       "    </tr>\n",
       "  </tbody>\n",
       "</table>\n",
       "<p>49999 rows × 7 columns</p>\n",
       "</div>"
      ],
      "text/plain": [
       "                     month       day      hour    minute   weekday        gl  \\\n",
       "time                                                                           \n",
       "2014-09-11 10:53:55    1.0 -0.333333 -0.130435  0.796610  0.000000 -0.578947   \n",
       "2014-09-11 10:58:55    1.0 -0.333333 -0.130435  0.966102  0.000000 -0.623269   \n",
       "2014-09-11 11:03:55    1.0 -0.333333 -0.043478 -0.898305  0.000000 -0.662050   \n",
       "2014-09-11 11:08:55    1.0 -0.333333 -0.043478 -0.728814  0.000000 -0.684211   \n",
       "2015-01-09 16:03:00   -1.0 -0.466667  0.391304 -0.898305  0.333333 -0.495845   \n",
       "...                    ...       ...       ...       ...       ...       ...   \n",
       "2015-07-11 05:18:48    0.5 -0.333333 -0.565217 -0.389831  0.666667 -0.473684   \n",
       "2015-07-11 05:23:48    0.5 -0.333333 -0.565217 -0.220339  0.666667 -0.484765   \n",
       "2015-07-11 05:28:48    0.5 -0.333333 -0.565217 -0.050847  0.666667 -0.490305   \n",
       "2015-07-11 05:33:48    0.5 -0.333333 -0.565217  0.118644  0.666667 -0.479224   \n",
       "2015-07-11 05:38:48    0.5 -0.333333 -0.565217  0.288136  0.666667 -0.468144   \n",
       "\n",
       "                       target  \n",
       "time                           \n",
       "2014-09-11 10:53:55 -0.623269  \n",
       "2014-09-11 10:58:55 -0.662050  \n",
       "2014-09-11 11:03:55 -0.684211  \n",
       "2014-09-11 11:08:55 -0.495845  \n",
       "2015-01-09 16:03:00 -0.490305  \n",
       "...                       ...  \n",
       "2015-07-11 05:18:48 -0.484765  \n",
       "2015-07-11 05:23:48 -0.490305  \n",
       "2015-07-11 05:28:48 -0.479224  \n",
       "2015-07-11 05:33:48 -0.468144  \n",
       "2015-07-11 05:38:48 -0.451524  \n",
       "\n",
       "[49999 rows x 7 columns]"
      ]
     },
     "execution_count": 136,
     "metadata": {},
     "output_type": "execute_result"
    }
   ],
   "source": [
    "data.dropna()                      # 使用了shift函数，在最后必然是有缺失值的，这里去掉缺失值所在行"
   ]
  },
  {
   "cell_type": "code",
   "execution_count": 75,
   "id": "03de780b",
   "metadata": {},
   "outputs": [],
   "source": [
    "import torch.nn as nn\n",
    "\n",
    "input_dim = 6      # 数据的特征数\n",
    "hidden_dim = 64    # 隐藏层的神经元个数\n",
    "num_layers = 2     # LSTM的层数\n",
    "output_dim = 1     # 预测值的特征数\n",
    "\n",
    "class LSTM(nn.Module):\n",
    "    def __init__(self, input_dim, hidden_dim, num_layers, output_dim):\n",
    "        super(LSTM, self).__init__()\n",
    "        # Hidden dimensions\n",
    "        self.hidden_dim = hidden_dim\n",
    "\n",
    "        # Number of hidden layers\n",
    "        self.num_layers = num_layers\n",
    "\n",
    "        # Building your LSTM\n",
    "        # batch_first=True causes input/output tensors to be of shape (batch_dim, seq_dim, feature_dim)\n",
    "        self.lstm = nn.LSTM(input_dim, hidden_dim, num_layers, batch_first=True)\n",
    "\n",
    "        # Readout layer 在LSTM后再加一个全连接层，因为是回归问题，所以不能在线性层后加激活函数\n",
    "        self.fc = nn.Linear(hidden_dim, output_dim) \n",
    "\n",
    "    def forward(self, x):\n",
    "        # Initialize hidden state with zeros   \n",
    "        h0 = torch.zeros(self.num_layers, x.size(0), self.hidden_dim).requires_grad_() \n",
    "        # 这里x.size(0)就是batch_size\n",
    "\n",
    "        # Initialize cell state\n",
    "        c0 = torch.zeros(self.num_layers, x.size(0), self.hidden_dim).requires_grad_()\n",
    "\n",
    "        # One time step\n",
    "        # We need to detach as we are doing truncated backpropagation through time (BPTT)\n",
    "        # If we don't, we'll backprop all the way to the start even after going through another batch\n",
    "        out, (hn, cn) = self.lstm(x, (h0.detach(), c0.detach()))\n",
    "\n",
    "        out = self.fc(out) \n",
    "\n",
    "        return out\n"
   ]
  },
  {
   "cell_type": "code",
   "execution_count": 117,
   "id": "6d2e636a",
   "metadata": {},
   "outputs": [],
   "source": [
    "# 创建两个列表，用来存储数据的特征和标签\n",
    "data_feat, data_target = [],[]\n",
    "\n",
    "# 设每条数据序列有24组数据\n",
    "seq = 24\n",
    "\n",
    "for index in range(len(data) - seq):\n",
    "    # 构建特征集\n",
    "    data_feat.append(data[['month','day','hour','minute','weekday','gl']][index: index + seq].values)\n",
    "    # 构建target集\n",
    "    data_target.append(data['target'][index:index + seq])\n",
    "\n",
    "# 将特征集和标签集整理成numpy数组\n",
    "data_feat = np.array(data_feat)\n",
    "data_target = np.array(data_target)\n"
   ]
  },
  {
   "cell_type": "code",
   "execution_count": 137,
   "id": "5bb2a2dd",
   "metadata": {},
   "outputs": [
    {
     "data": {
      "text/plain": [
       "(49976, 24, 6)"
      ]
     },
     "execution_count": 137,
     "metadata": {},
     "output_type": "execute_result"
    }
   ],
   "source": [
    "data_feat.shape"
   ]
  },
  {
   "cell_type": "code",
   "execution_count": 138,
   "id": "695b126b",
   "metadata": {},
   "outputs": [
    {
     "data": {
      "text/plain": [
       "(49976, 24)"
      ]
     },
     "execution_count": 138,
     "metadata": {},
     "output_type": "execute_result"
    }
   ],
   "source": [
    "data_target.shape"
   ]
  },
  {
   "cell_type": "code",
   "execution_count": 139,
   "id": "9775db43",
   "metadata": {},
   "outputs": [
    {
     "name": "stdout",
     "output_type": "stream",
     "text": [
      "10000\n",
      "39976\n"
     ]
    }
   ],
   "source": [
    "# 这里按照8:2的比例划分训练集和测试集\n",
    "test_set_size = int(np.round(0.2*data.shape[0]))  # np.round(1)是四舍五入，\n",
    "train_size = data_feat.shape[0] - (test_set_size) \n",
    "print(test_set_size)  # 输出测试集大小\n",
    "print(train_size)     # 输出训练集大小\n"
   ]
  },
  {
   "cell_type": "code",
   "execution_count": 140,
   "id": "36bce9eb",
   "metadata": {},
   "outputs": [],
   "source": [
    "trainX = torch.from_numpy(data_feat[:train_size].reshape(-1,seq,6)).type(torch.Tensor)   \n",
    "# 这里第一个维度自动确定，我们认为其为batch_size，因为在LSTM类的定义中，设置了batch_first=True\n",
    "testX  = torch.from_numpy(data_feat[train_size:].reshape(-1,seq,6)).type(torch.Tensor)\n",
    "trainY = torch.from_numpy(data_target[:train_size].reshape(-1,seq,1)).type(torch.Tensor)\n",
    "testY  = torch.from_numpy(data_target[train_size:].reshape(-1,seq,1)).type(torch.Tensor)"
   ]
  },
  {
   "cell_type": "code",
   "execution_count": 141,
   "id": "f4f4bda7",
   "metadata": {},
   "outputs": [
    {
     "name": "stdout",
     "output_type": "stream",
     "text": [
      "x_train.shape =  torch.Size([39976, 24, 6])\n",
      "y_train.shape =  torch.Size([39976, 24, 1])\n",
      "x_test.shape =  torch.Size([10000, 24, 6])\n",
      "y_test.shape =  torch.Size([10000, 24, 1])\n"
     ]
    }
   ],
   "source": [
    "print('x_train.shape = ',trainX.shape)\n",
    "print('y_train.shape = ',trainY.shape)\n",
    "print('x_test.shape = ',testX.shape)\n",
    "print('y_test.shape = ',testY.shape)"
   ]
  },
  {
   "cell_type": "code",
   "execution_count": 33,
   "id": "3c39c0b1",
   "metadata": {},
   "outputs": [],
   "source": [
    "batch_size=128\n",
    "train = TensorDataset(trainX,trainY)\n",
    "test = TensorDataset(testX,testY)\n",
    "train_loader = DataLoader(dataset=train, batch_size=batch_size, shuffle=False)\n",
    "\n",
    "test_loader = DataLoader(dataset=test, batch_size=batch_size, shuffle=False)\n"
   ]
  },
  {
   "cell_type": "code",
   "execution_count": 82,
   "id": "49827ac3",
   "metadata": {},
   "outputs": [
    {
     "name": "stdout",
     "output_type": "stream",
     "text": [
      "LSTM(\n",
      "  (lstm): LSTM(6, 64, num_layers=2, batch_first=True)\n",
      "  (fc): Linear(in_features=64, out_features=1, bias=True)\n",
      ")\n"
     ]
    }
   ],
   "source": [
    "# 实例化模型\n",
    "model = LSTM(input_dim=input_dim, hidden_dim=hidden_dim, output_dim=output_dim, num_layers=num_layers)\n",
    "\n",
    "# 定义优化器和损失函数\n",
    "optimiser = torch.optim.Adam(model.parameters(), lr=0.01) # 使用Adam优化算法\n",
    "loss_fn = torch.nn.MSELoss(reduction='mean')             # 使用均方差作为损失函数\n",
    "\n",
    "# 设定数据遍历次数\n",
    "num_epochs = 100\n",
    "\n",
    "# 打印模型结构\n",
    "print(model)\n"
   ]
  },
  {
   "cell_type": "code",
   "execution_count": 83,
   "id": "379c7b73",
   "metadata": {},
   "outputs": [
    {
     "name": "stdout",
     "output_type": "stream",
     "text": [
      "torch.Size([256, 6])\n",
      "torch.Size([256, 64])\n",
      "torch.Size([256])\n",
      "torch.Size([256])\n",
      "torch.Size([256, 64])\n",
      "torch.Size([256, 64])\n",
      "torch.Size([256])\n",
      "torch.Size([256])\n",
      "torch.Size([1, 64])\n",
      "torch.Size([1])\n"
     ]
    }
   ],
   "source": [
    "# 打印模型各层的参数尺寸\n",
    "for i in range(len(list(model.parameters()))):\n",
    "    print(list(model.parameters())[i].size())"
   ]
  },
  {
   "cell_type": "code",
   "execution_count": 84,
   "id": "c6e98bbe",
   "metadata": {},
   "outputs": [
    {
     "name": "stdout",
     "output_type": "stream",
     "text": [
      "Epoch  10 MSE:  0.06382326036691666\n",
      "Epoch  20 MSE:  0.02286689728498459\n",
      "Epoch  30 MSE:  0.00888611376285553\n",
      "Epoch  40 MSE:  0.005638427101075649\n",
      "Epoch  50 MSE:  0.0038823620416224003\n",
      "Epoch  60 MSE:  0.0030592558905482292\n",
      "Epoch  70 MSE:  0.0025556168984621763\n",
      "Epoch  80 MSE:  0.0022451449185609818\n",
      "Epoch  90 MSE:  0.002048049820587039\n"
     ]
    }
   ],
   "source": [
    "# train model\n",
    "hist = np.zeros(num_epochs)\n",
    "for t in range(num_epochs):\n",
    "    # Initialise hidden state\n",
    "    # Don't do this if you want your LSTM to be stateful\n",
    "    # model.hidden = model.init_hidden()\n",
    "    \n",
    "    # Forward pass\n",
    "    y_train_pred = model(trainX)\n",
    "\n",
    "    loss = loss_fn(y_train_pred, trainY)\n",
    "    if t % 10 == 0 and t !=0:                  # 每训练十次，打印一次均方差\n",
    "        print(\"Epoch \", t, \"MSE: \", loss.item())\n",
    "    hist[t] = loss.item()\n",
    "\n",
    "    # Zero out gradient, else they will accumulate between epochs 将梯度归零\n",
    "    optimiser.zero_grad()\n",
    "\n",
    "    # Backward pass\n",
    "    loss.backward()\n",
    "    \n",
    "    # Update parameters\n",
    "    optimiser.step()\n"
   ]
  },
  {
   "cell_type": "code",
   "execution_count": 143,
   "id": "b9aacd00",
   "metadata": {},
   "outputs": [
    {
     "data": {
      "text/plain": [
       "0.0006587308598682284"
      ]
     },
     "execution_count": 143,
     "metadata": {},
     "output_type": "execute_result"
    }
   ],
   "source": [
    "# 计算训练得到的模型在训练集上的均方差\n",
    "y_train_pred = model(trainX)\n",
    "loss_fn(y_train_pred, trainY).item()"
   ]
  },
  {
   "cell_type": "code",
   "execution_count": 125,
   "id": "36996adc",
   "metadata": {},
   "outputs": [
    {
     "data": {
      "text/plain": [
       "torch.Size([39976, 24, 6])"
      ]
     },
     "execution_count": 125,
     "metadata": {},
     "output_type": "execute_result"
    }
   ],
   "source": [
    "trainX.shape"
   ]
  },
  {
   "cell_type": "code",
   "execution_count": 126,
   "id": "a15f39bc",
   "metadata": {},
   "outputs": [
    {
     "data": {
      "text/plain": [
       "torch.Size([39976, 24, 1])"
      ]
     },
     "execution_count": 126,
     "metadata": {},
     "output_type": "execute_result"
    }
   ],
   "source": [
    "y_train_pred.shape"
   ]
  },
  {
   "cell_type": "code",
   "execution_count": 127,
   "id": "bb7348aa",
   "metadata": {},
   "outputs": [
    {
     "data": {
      "text/plain": [
       "torch.Size([39976, 24, 1])"
      ]
     },
     "execution_count": 127,
     "metadata": {},
     "output_type": "execute_result"
    }
   ],
   "source": [
    "trainY.shape"
   ]
  },
  {
   "cell_type": "code",
   "execution_count": 144,
   "id": "78f93613",
   "metadata": {},
   "outputs": [
    {
     "data": {
      "image/png": "[encoded data removed]",
      "text/plain": [
       "<Figure size 640x480 with 1 Axes>"
      ]
     },
     "metadata": {},
     "output_type": "display_data"
    }
   ],
   "source": [
    "# \"训练集效果图\"\n",
    "pred_value = y_train_pred.detach().numpy()[:,-1,0]       \n",
    "true_value = trainY.detach().numpy()[:,-1,0] \n",
    "\n",
    "plt.plot(pred_value[-100:], label=\"Preds\")    # 预测值\n",
    "plt.plot(true_value[-100:], label=\"Data\")    # 真实值\n",
    "plt.legend()\n",
    "plt.show()"
   ]
  },
  {
   "cell_type": "code",
   "execution_count": 145,
   "id": "23e3d573",
   "metadata": {},
   "outputs": [
    {
     "data": {
      "image/png": "[encoded data removed]",
      "text/plain": [
       "<Figure size 640x480 with 1 Axes>"
      ]
     },
     "metadata": {},
     "output_type": "display_data"
    }
   ],
   "source": [
    "# 纵坐标还有负的，因为前面进行缩放，现在让数据还原成原来的大小\n",
    "# invert predictions\n",
    "pred_value = scaler.inverse_transform(pred_value.reshape(-1, 1))\n",
    "true_value = scaler.inverse_transform(true_value.reshape(-1, 1))\n",
    "\n",
    "plt.plot(pred_value[-100:], label=\"Preds\")    # 预测值\n",
    "plt.plot(true_value[-100:], label=\"Data\")    # 真实值\n",
    "plt.legend()\n",
    "plt.show()\n"
   ]
  },
  {
   "cell_type": "code",
   "execution_count": 146,
   "id": "97751713",
   "metadata": {},
   "outputs": [
    {
     "data": {
      "image/png": "[encoded data removed]",
      "text/plain": [
       "<Figure size 640x480 with 1 Axes>"
      ]
     },
     "metadata": {},
     "output_type": "display_data"
    }
   ],
   "source": [
    "# \"测试集效果图\"\n",
    "# make predictions\n",
    "y_test_pred = model(testX)\n",
    "loss_fn(y_test_pred, testY).item()\n",
    "\n",
    "pred_value = y_test_pred.detach().numpy()[:,-1,0]    \n",
    "true_value = testY.detach().numpy()[:,-1,0]\n",
    "\n",
    "pred_value = scaler.inverse_transform(pred_value.reshape(-1, 1))\n",
    "true_value = scaler.inverse_transform(true_value.reshape(-1, 1))\n",
    "\n",
    "plt.plot(pred_value[-100:], label=\"Preds\")    # 预测值\n",
    "plt.plot(true_value[-100:], label=\"Data\")    # 真实值\n",
    "plt.legend()\n",
    "plt.show()"
   ]
  },
  {
   "cell_type": "code",
   "execution_count": 148,
   "id": "4aa90066",
   "metadata": {},
   "outputs": [
    {
     "data": {
      "text/plain": [
       "(10000, 1)"
      ]
     },
     "execution_count": 148,
     "metadata": {},
     "output_type": "execute_result"
    }
   ],
   "source": [
    "pred_value.shape"
   ]
  },
  {
   "cell_type": "code",
   "execution_count": 147,
   "id": "02528cee",
   "metadata": {},
   "outputs": [
    {
     "data": {
      "text/plain": [
       "(10000, 1)"
      ]
     },
     "execution_count": 147,
     "metadata": {},
     "output_type": "execute_result"
    }
   ],
   "source": [
    "true_value.shape"
   ]
  },
  {
   "cell_type": "code",
   "execution_count": 152,
   "id": "06e9c033",
   "metadata": {},
   "outputs": [
    {
     "data": {
      "text/plain": [
       "0.9923769656322712"
      ]
     },
     "execution_count": 152,
     "metadata": {},
     "output_type": "execute_result"
    }
   ],
   "source": [
    "correlation_matrix = np.corrcoef(pred_value.flatten(), true_value.flatten())[0, 1]\n",
    "correlation_matrix"
   ]
  },
  {
   "cell_type": "code",
   "execution_count": 151,
   "id": "9197930d",
   "metadata": {},
   "outputs": [
    {
     "data": {
      "text/plain": [
       "(10000,)"
      ]
     },
     "execution_count": 151,
     "metadata": {},
     "output_type": "execute_result"
    }
   ],
   "source": [
    "pred_value.flatten().shape"
   ]
  },
  {
   "cell_type": "code",
   "execution_count": null,
   "id": "4100b725",
   "metadata": {},
   "outputs": [],
   "source": []
  }
 ],
 "metadata": {
  "kernelspec": {
   "display_name": "pytorch",
   "language": "python",
   "name": "pytorch02"
  },
  "language_info": {
   "codemirror_mode": {
    "name": "ipython",
    "version": 3
   },
   "file_extension": ".py",
   "mimetype": "text/x-python",
   "name": "python",
   "nbconvert_exporter": "python",
   "pygments_lexer": "ipython3",
   "version": "3.8.17"
  }
 },
 "nbformat": 4,
 "nbformat_minor": 5
}
