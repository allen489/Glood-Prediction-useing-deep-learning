{
 "cells": [
  {
   "cell_type": "code",
   "execution_count": 1,
   "id": "4add7ebf",
   "metadata": {},
   "outputs": [
    {
     "name": "stdout",
     "output_type": "stream",
     "text": [
      "    id                 time     gl\n",
      "0  183  2015-05-16 05:35:41  162.0\n",
      "1  183  2015-05-16 05:30:41  164.0\n",
      "2  183  2015-05-16 05:25:41  168.0\n",
      "3  183  2015-05-16 05:20:41  169.0\n",
      "4  183  2015-05-16 05:15:41  170.0\n"
     ]
    }
   ],
   "source": [
    "import pandas as pd\n",
    "import numpy as np\n",
    "df = pd.read_csv(r\"./Aleppo2017_processed.csv\",encoding='utf-8')\n",
    "print(df.head())"
   ]
  },
  {
   "cell_type": "code",
   "execution_count": 2,
   "id": "fce35f04",
   "metadata": {},
   "outputs": [
    {
     "name": "stdout",
     "output_type": "stream",
     "text": [
      "Index([263,  77, 193, 277, 229, 245, 155, 251, 111, 164,\n",
      "       ...\n",
      "       128, 264, 186, 162, 249,  39,  52, 266, 223, 289],\n",
      "      dtype='int64', name='id', length=226)\n"
     ]
    }
   ],
   "source": [
    "ID = df['id'].value_counts().index\n",
    "print(ID)"
   ]
  },
  {
   "cell_type": "code",
   "execution_count": 10,
   "id": "d7568318",
   "metadata": {},
   "outputs": [],
   "source": [
    "all_data = []\n",
    "for i in ID[:100]:\n",
    "    data = df[df['id']==i]\n",
    "    data = data.sort_values(by='time')   \n",
    "    data['target'] = data['gl'].shift(-1)\n",
    "    \n",
    "    # 使用了shift函数，在最后必然是有缺失值的，这里去掉缺失值所在行\n",
    "    data.dropna()                     \n",
    "    data = data[['gl','target']].astype(np.float32)  # 修改数据类型\n",
    "    data = data.gl.values.astype(float)\n",
    "    all_data.append(data)\n",
    "    break"
   ]
  },
  {
   "cell_type": "code",
   "execution_count": 11,
   "id": "ea22444e",
   "metadata": {},
   "outputs": [
    {
     "name": "stdout",
     "output_type": "stream",
     "text": [
      "(1, 94680)\n"
     ]
    }
   ],
   "source": [
    "import numpy as np\n",
    "all_data = np.array(all_data)\n",
    "print(all_data.shape)\n",
    "# 将2000条数据的最后24条用作测试集\n",
    "test_data_size = 100\n",
    "train_data = all_data[:,:-test_data_size]\n",
    "test_data = all_data[:,-test_data_size:]"
   ]
  },
  {
   "cell_type": "code",
   "execution_count": 13,
   "id": "5f1bc171",
   "metadata": {},
   "outputs": [
    {
     "name": "stdout",
     "output_type": "stream",
     "text": [
      "(1, 94580)\n",
      "(1, 100)\n"
     ]
    }
   ],
   "source": [
    "print(train_data.shape)\n",
    "print(test_data.shape)"
   ]
  },
  {
   "cell_type": "code",
   "execution_count": 14,
   "id": "f51066fb",
   "metadata": {},
   "outputs": [
    {
     "name": "stdout",
     "output_type": "stream",
     "text": [
      "[[-0.72375691]\n",
      " [-0.73480663]\n",
      " [-0.75138122]\n",
      " [-0.75690608]\n",
      " [-0.76243094]]\n",
      "[[-0.3480663 ]\n",
      " [-0.35911602]\n",
      " [-0.36464088]\n",
      " [-0.37016575]\n",
      " [-0.38674033]]\n",
      "(94580, 1)\n"
     ]
    }
   ],
   "source": [
    "from sklearn.preprocessing import MinMaxScaler\n",
    "scaler = MinMaxScaler(feature_range=(-1, 1))\n",
    "train_data_normalized = scaler.fit_transform(train_data.reshape(-1, 1))\n",
    "print(train_data_normalized[:5])\n",
    "print(train_data_normalized[-5:])\n",
    "print(train_data_normalized.shape)"
   ]
  },
  {
   "cell_type": "code",
   "execution_count": 15,
   "id": "a4e366fe",
   "metadata": {},
   "outputs": [],
   "source": [
    "import torch\n",
    "import torch.nn as nn\n",
    "train_data_normalized = torch.FloatTensor(train_data_normalized).view(-1)"
   ]
  },
  {
   "cell_type": "code",
   "execution_count": 16,
   "id": "7f64d101",
   "metadata": {},
   "outputs": [
    {
     "data": {
      "text/plain": [
       "torch.Size([94580])"
      ]
     },
     "execution_count": 16,
     "metadata": {},
     "output_type": "execute_result"
    }
   ],
   "source": [
    "train_data_normalized.shape"
   ]
  },
  {
   "cell_type": "code",
   "execution_count": 17,
   "id": "9e7c99f8",
   "metadata": {},
   "outputs": [],
   "source": [
    "train_window = 24\n",
    "def create_inout_sequences(input_data, tw):\n",
    "    inout_seq = []\n",
    "    L = len(input_data)\n",
    "    for i in range(L-tw):\n",
    "        train_seq = input_data[i:i+tw]\n",
    "        train_label = input_data[i+tw:i+tw+1]\n",
    "        inout_seq.append((train_seq ,train_label))\n",
    "    return inout_seq"
   ]
  },
  {
   "cell_type": "code",
   "execution_count": 18,
   "id": "bae11f2f",
   "metadata": {},
   "outputs": [],
   "source": [
    "train_inout_seq = create_inout_sequences(train_data_normalized, train_window)"
   ]
  },
  {
   "cell_type": "code",
   "execution_count": 19,
   "id": "2dcf96ce",
   "metadata": {},
   "outputs": [
    {
     "name": "stdout",
     "output_type": "stream",
     "text": [
      "94556\n"
     ]
    },
    {
     "data": {
      "text/plain": [
       "[(tensor([-0.7238, -0.7348, -0.7514, -0.7569, -0.7624, -0.7680, -0.7680, -0.7680,\n",
       "          -0.7680, -0.7624, -0.7569, -0.7624, -0.7680, -0.7735, -0.7680, -0.7680,\n",
       "          -0.7680, -0.7680, -0.7680, -0.7735, -0.7790, -0.7845, -0.7790, -0.7790]),\n",
       "  tensor([-0.7790])),\n",
       " (tensor([-0.7348, -0.7514, -0.7569, -0.7624, -0.7680, -0.7680, -0.7680, -0.7680,\n",
       "          -0.7624, -0.7569, -0.7624, -0.7680, -0.7735, -0.7680, -0.7680, -0.7680,\n",
       "          -0.7680, -0.7680, -0.7735, -0.7790, -0.7845, -0.7790, -0.7790, -0.7790]),\n",
       "  tensor([-0.7735])),\n",
       " (tensor([-0.7514, -0.7569, -0.7624, -0.7680, -0.7680, -0.7680, -0.7680, -0.7624,\n",
       "          -0.7569, -0.7624, -0.7680, -0.7735, -0.7680, -0.7680, -0.7680, -0.7680,\n",
       "          -0.7680, -0.7735, -0.7790, -0.7845, -0.7790, -0.7790, -0.7790, -0.7735]),\n",
       "  tensor([-0.7735])),\n",
       " (tensor([-0.7569, -0.7624, -0.7680, -0.7680, -0.7680, -0.7680, -0.7624, -0.7569,\n",
       "          -0.7624, -0.7680, -0.7735, -0.7680, -0.7680, -0.7680, -0.7680, -0.7680,\n",
       "          -0.7735, -0.7790, -0.7845, -0.7790, -0.7790, -0.7790, -0.7735, -0.7735]),\n",
       "  tensor([-0.7680])),\n",
       " (tensor([-0.7624, -0.7680, -0.7680, -0.7680, -0.7680, -0.7624, -0.7569, -0.7624,\n",
       "          -0.7680, -0.7735, -0.7680, -0.7680, -0.7680, -0.7680, -0.7680, -0.7735,\n",
       "          -0.7790, -0.7845, -0.7790, -0.7790, -0.7790, -0.7735, -0.7735, -0.7680]),\n",
       "  tensor([-0.7680]))]"
      ]
     },
     "execution_count": 19,
     "metadata": {},
     "output_type": "execute_result"
    }
   ],
   "source": [
    "print(len(train_inout_seq))\n",
    "train_inout_seq[:5]"
   ]
  },
  {
   "cell_type": "code",
   "execution_count": 21,
   "id": "f22d5eb3",
   "metadata": {},
   "outputs": [],
   "source": [
    "class LSTM(nn.Module):\n",
    "    def __init__(self, input_size=1, hidden_layer_size=64, output_size=1):\n",
    "        super().__init__()\n",
    "        self.hidden_layer_size = hidden_layer_size\n",
    "\n",
    "        self.lstm = nn.LSTM(input_size, hidden_layer_size)\n",
    "\n",
    "    def forward(self, input_seq):\n",
    "        lstm_out, self.hidden_cell = self.lstm(input_seq.view(len(input_seq) ,1, -1), self.hidden_cell)\n",
    "        predictions = self.linear(lstm_out.view(len(input_seq), -1))\n",
    "        return predictions[-1]"
   ]
  },
  {
   "cell_type": "code",
   "execution_count": 22,
   "id": "6aa1f660",
   "metadata": {},
   "outputs": [],
   "source": [
    "model = LSTM()\n",
    "loss_function = nn.MSELoss()\n",
    "optimizer = torch.optim.Adam(model.parameters(), lr=0.001)\n",
    "model.add_module('linear',nn.Linear(64,1))"
   ]
  },
  {
   "cell_type": "code",
   "execution_count": 23,
   "id": "2191edda",
   "metadata": {},
   "outputs": [
    {
     "name": "stdout",
     "output_type": "stream",
     "text": [
      "LSTM(\n",
      "  (lstm): LSTM(1, 64)\n",
      "  (linear): Linear(in_features=64, out_features=1, bias=True)\n",
      ")\n"
     ]
    }
   ],
   "source": [
    "print(model)"
   ]
  },
  {
   "cell_type": "code",
   "execution_count": 24,
   "id": "93f0557c",
   "metadata": {},
   "outputs": [
    {
     "name": "stdout",
     "output_type": "stream",
     "text": [
      "torch.Size([24])\n",
      "torch.Size([1])\n"
     ]
    }
   ],
   "source": [
    "for seq, labels in train_inout_seq:\n",
    "    print(seq.shape)\n",
    "    print(labels.shape)\n",
    "    break"
   ]
  },
  {
   "cell_type": "code",
   "execution_count": null,
   "id": "d8781237",
   "metadata": {},
   "outputs": [
    {
     "name": "stdout",
     "output_type": "stream",
     "text": [
      "epoch:   1 loss: 0.00019356\n",
      "epoch:  26 loss: 0.00021001\n",
      "epoch:  51 loss: 0.05988961\n",
      "epoch:  76 loss: 0.01351678\n"
     ]
    }
   ],
   "source": [
    "epochs = 150\n",
    "\n",
    "for i in range(epochs):\n",
    "    for seq, labels in train_inout_seq:\n",
    "        optimizer.zero_grad()\n",
    "        model.hidden_cell = (torch.zeros(1, 1, model.hidden_layer_size),\n",
    "                        torch.zeros(1, 1, model.hidden_layer_size))\n",
    "        \n",
    "        y_pred = model(seq)\n",
    "\n",
    "        single_loss = loss_function(y_pred, labels)\n",
    "        single_loss.backward()\n",
    "        optimizer.step()\n",
    "\n",
    "    if i%25 == 1:\n",
    "        print(f'epoch: {i:3} loss: {single_loss.item():10.8f}')\n",
    "\n",
    "print(f'epoch: {i:3} loss: {single_loss.item():10.10f}')"
   ]
  },
  {
   "cell_type": "code",
   "execution_count": null,
   "id": "6cf4fa30",
   "metadata": {},
   "outputs": [],
   "source": [
    "\n"
   ]
  }
 ],
 "metadata": {
  "kernelspec": {
   "display_name": "pytorch",
   "language": "python",
   "name": "pytorch02"
  },
  "language_info": {
   "codemirror_mode": {
    "name": "ipython",
    "version": 3
   },
   "file_extension": ".py",
   "mimetype": "text/x-python",
   "name": "python",
   "nbconvert_exporter": "python",
   "pygments_lexer": "ipython3",
   "version": "3.8.17"
  }
 },
 "nbformat": 4,
 "nbformat_minor": 5
}
